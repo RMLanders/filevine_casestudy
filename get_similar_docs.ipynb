{
 "cells": [
  {
   "cell_type": "code",
   "execution_count": null,
   "metadata": {},
   "outputs": [],
   "source": [
    "import pandas as pd\n",
    "import csv\n",
    "import re\n",
    "from bs4 import BeautifulSoup\n",
    "import marqo\n",
    "import pprint"
   ]
  },
  {
   "cell_type": "code",
   "execution_count": null,
   "metadata": {},
   "outputs": [],
   "source": [
    "df = pd.read_csv('./data/filevine_case_study_justice - train set_source data set.csv')\n",
    "df.info()"
   ]
  },
  {
   "cell_type": "code",
   "execution_count": null,
   "metadata": {},
   "outputs": [],
   "source": [
    "mq = marqo.Client(url=\"http://localhost:8882\")"
   ]
  },
  {
   "cell_type": "code",
   "execution_count": null,
   "metadata": {},
   "outputs": [],
   "source": [
    "query = df['facts'][0]\n",
    "print(query)\n",
    "results = mq.index(\"test\").search(query, search_method='TENSOR')\n",
    "\n",
    "# Prints the nicely formatted dictionary\n",
    "pprint.pprint(results)"
   ]
  },
  {
   "cell_type": "code",
   "execution_count": null,
   "metadata": {},
   "outputs": [],
   "source": [
    "df['href'][0]"
   ]
  },
  {
   "cell_type": "code",
   "execution_count": null,
   "metadata": {},
   "outputs": [],
   "source": [
    "results_df = pd.DataFrame(results['hits'])\n",
    "same_doc_index = results_df[results_df['href']==df['href'][0]].index\n",
    "results_df.drop(same_doc_index , inplace=True)\n",
    "most_similar_document = results_df.loc[results_df['_score'].idxmax()]"
   ]
  },
  {
   "cell_type": "code",
   "execution_count": null,
   "metadata": {},
   "outputs": [],
   "source": [
    "results_df"
   ]
  },
  {
   "cell_type": "code",
   "execution_count": null,
   "metadata": {},
   "outputs": [],
   "source": [
    "most_similar_document"
   ]
  },
  {
   "cell_type": "code",
   "execution_count": null,
   "metadata": {},
   "outputs": [],
   "source": [
    "mq.index(\"test\").get_document(\n",
    "    document_id=most_similar_document['_id'],\n",
    "    expose_facets=True\n",
    ")"
   ]
  },
  {
   "cell_type": "code",
   "execution_count": null,
   "metadata": {},
   "outputs": [],
   "source": [
    "cond = df['href'] =='https://api.oyez.org/cases/1997/96-957'\n",
    "\n",
    "result = df[cond].facts.values[0]\n",
    "\n",
    "result"
   ]
  },
  {
   "cell_type": "code",
   "execution_count": null,
   "metadata": {},
   "outputs": [],
   "source": [
    "cond = df['href'] =='https://api.oyez.org/cases/1997/96-957'\n",
    "\n",
    "query = df[cond].facts.values[0]\n",
    "print(query)\n",
    "results = mq.index(\"sentences_test\").search(query, search_method='TENSOR')\n",
    "\n",
    "# Prints the nicely formatted dictionary\n",
    "pprint.pprint(results)"
   ]
  },
  {
   "cell_type": "code",
   "execution_count": null,
   "metadata": {},
   "outputs": [],
   "source": [
    "results_df = pd.DataFrame(results['hits'])\n",
    "same_doc_index = results_df[results_df['href']=='https://api.oyez.org/cases/1997/96-957'].index\n",
    "results_df.drop(same_doc_index , inplace=True)\n",
    "most_similar_document = results_df.loc[results_df['_score'].idxmax()]"
   ]
  },
  {
   "cell_type": "code",
   "execution_count": null,
   "metadata": {},
   "outputs": [],
   "source": [
    "results_df"
   ]
  },
  {
   "cell_type": "code",
   "execution_count": null,
   "metadata": {},
   "outputs": [],
   "source": [
    "mq.index(\"sentences_test\").get_document(\n",
    "    document_id=most_similar_document['_id'],\n",
    "    expose_facets=True\n",
    ")"
   ]
  }
 ],
 "metadata": {
  "kernelspec": {
   "display_name": "fv",
   "language": "python",
   "name": "python3"
  },
  "language_info": {
   "codemirror_mode": {
    "name": "ipython",
    "version": 3
   },
   "file_extension": ".py",
   "mimetype": "text/x-python",
   "name": "python",
   "nbconvert_exporter": "python",
   "pygments_lexer": "ipython3",
   "version": "3.10.13"
  }
 },
 "nbformat": 4,
 "nbformat_minor": 2
}
