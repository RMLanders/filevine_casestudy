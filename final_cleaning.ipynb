{
 "cells": [
  {
   "cell_type": "code",
   "execution_count": null,
   "metadata": {},
   "outputs": [],
   "source": [
    "import pandas as pd"
   ]
  },
  {
   "cell_type": "code",
   "execution_count": null,
   "metadata": {},
   "outputs": [],
   "source": [
    "# file = './data/full_one_hot_encoded.csv'\n",
    "file = './data/final.csv'"
   ]
  },
  {
   "cell_type": "code",
   "execution_count": null,
   "metadata": {},
   "outputs": [],
   "source": [
    "df = pd.read_csv(file)"
   ]
  },
  {
   "cell_type": "code",
   "execution_count": null,
   "metadata": {},
   "outputs": [],
   "source": [
    "print(df.columns.tolist())"
   ]
  },
  {
   "cell_type": "code",
   "execution_count": null,
   "metadata": {},
   "outputs": [],
   "source": [
    "df = df.loc[:,~df.columns.str.startswith('Unnamed')]\n",
    "df = df.loc[:, df.columns != 'ID']\n",
    "df = df.loc[:, df.columns != 'name']\n",
    "df = df.loc[:, df.columns != 'judges']\n",
    "df = df.loc[:, df.columns != 'conclusion']\n",
    "df = df.loc[:, df.columns != 'facts']\n",
    "df = df.loc[:, df.columns != 'legal_question']\n",
    "df = df.loc[:, df.columns != 'facts']\n",
    "df = df.loc[:, df.columns != 'decision_type']\n",
    "df = df.loc[:, df.columns != 'disposition']\n",
    "df = df.loc[:, df.columns != 'lower_court']\n",
    "df = df.loc[:, df.columns != 'first_party']\n",
    "df = df.loc[:, df.columns != 'second_party']\n",
    "df = df.loc[:, df.columns != 'docket']"
   ]
  },
  {
   "cell_type": "code",
   "execution_count": null,
   "metadata": {},
   "outputs": [],
   "source": [
    "print(df.columns.tolist())"
   ]
  },
  {
   "cell_type": "code",
   "execution_count": null,
   "metadata": {},
   "outputs": [],
   "source": [
    "df.to_csv('./data/final_cleaned.csv')"
   ]
  }
 ],
 "metadata": {
  "kernelspec": {
   "display_name": "fv",
   "language": "python",
   "name": "python3"
  },
  "language_info": {
   "codemirror_mode": {
    "name": "ipython",
    "version": 3
   },
   "file_extension": ".py",
   "mimetype": "text/x-python",
   "name": "python",
   "nbconvert_exporter": "python",
   "pygments_lexer": "ipython3",
   "version": "3.10.13"
  }
 },
 "nbformat": 4,
 "nbformat_minor": 2
}
