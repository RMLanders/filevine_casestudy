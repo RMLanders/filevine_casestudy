{
 "cells": [
  {
   "cell_type": "code",
   "execution_count": null,
   "metadata": {},
   "outputs": [],
   "source": [
    "import pandas as pd\n",
    "import csv\n",
    "import re\n",
    "from bs4 import BeautifulSoup\n",
    "import marqo\n",
    "import pprint"
   ]
  },
  {
   "cell_type": "code",
   "execution_count": null,
   "metadata": {},
   "outputs": [],
   "source": [
    "df = pd.read_csv('./data/filevine_case_study_justice - train set_source data set.csv')\n",
    "model = \"hf/multilingual-e5-large\"\n",
    "url = \"http://localhost:8882\"\n",
    "mq = marqo.Client(url=url)"
   ]
  },
  {
   "cell_type": "code",
   "execution_count": null,
   "metadata": {},
   "outputs": [],
   "source": [
    "df = pd.read_csv('./data/filevine_case_study_justice - train set_source data set.csv')\n",
    "\n",
    "def find_tags(txt):\n",
    "    soup = BeautifulSoup(txt, 'html.parser')\n",
    "    tags =[tag.name for tag in soup.find_all()]\n",
    "    return tags\n",
    "\n",
    "def clean_text(txt):\n",
    "    soup = BeautifulSoup(txt.strip(), 'html.parser')\n",
    "    clean_text = soup.get_text()\n",
    "    clean_text = re.sub('[^a-zA-Z0-9\\s]', '', clean_text)\n",
    "    clean_text = clean_text.lower()\n",
    "    return clean_text\n",
    "\n",
    "df['facts_clean'] = df['facts'].apply(clean_text)\n",
    "\n",
    "df['sim1_vector'] = None\n",
    "df['sim1_score'] = None\n",
    "df['sim1_href'] = None\n",
    "df['sim2_vector'] = None\n",
    "df['sim2_score'] = None\n",
    "df['sim2_href'] = None\n",
    "df['sim3_vector'] = None\n",
    "df['sim3_score'] = None\n",
    "df['sim3_href'] = None\n",
    "\n",
    "df['sim1_vector_sent'] = None\n",
    "df['sim1_score_sent'] = None\n",
    "df['sim1_href_sent'] = None\n",
    "df['sim2_vector_sent'] = None\n",
    "df['sim2_score_sent'] = None\n",
    "df['sim2_href_sent'] = None\n",
    "df['sim3_vector_sent'] = None\n",
    "df['sim3_score_sent'] = None\n",
    "df['sim3_href_sent'] = None"
   ]
  },
  {
   "cell_type": "code",
   "execution_count": null,
   "metadata": {},
   "outputs": [],
   "source": [
    "for index, row in df.iterrows():\n",
    "    search_href = row['href']\n",
    "    facts = row['facts']\n",
    "    results = mq.index(\"filevine_docs_whole\").search(facts, search_method='TENSOR')\n",
    "    results_df = pd.DataFrame(results['hits'])\n",
    "    same_doc_index = results_df[results_df['href']==search_href].index\n",
    "    results_df.drop(same_doc_index , inplace=True)\n",
    "    results_df[0:3]\n",
    "\n",
    "    df.loc[df['href']==search_href, 'sim1_score']=results_df['_score'].iloc[0]\n",
    "    df.loc[df['href']==search_href, 'sim1_href'] = results_df['href'].iloc[0]\n",
    "    df.loc[df['href']==search_href, 'sim2_score'] = results_df['_score'].iloc[1]\n",
    "    df.loc[df['href']==search_href, 'sim2_href'] = results_df['href'].iloc[1]\n",
    "    df.loc[df['href']==search_href, 'sim3_score'] = results_df['_score'].iloc[2]\n",
    "    df.loc[df['href']==search_href, 'sim3_href'] = results_df['href'].iloc[2]\n",
    "\n",
    "    for index, row in results_df[0:3].iterrows():\n",
    "        document_id = row['_id']\n",
    "        facets = mq.index(\"filevine_docs_whole\").get_document(\n",
    "            document_id=document_id,\n",
    "            expose_facets=True\n",
    "        )\n",
    "        \n",
    "        df.loc[df['href']==row['href'], f'sim{index}_vector'] = str(facets['_tensor_facets'][0]['_embedding'])"
   ]
  },
  {
   "cell_type": "code",
   "execution_count": null,
   "metadata": {},
   "outputs": [],
   "source": [
    "for index, row in df.iterrows():\n",
    "    search_href = row['href']\n",
    "    facts = row['facts']\n",
    "    results = mq.index(\"filevine_docs_sentences\").search(facts, search_method='TENSOR')\n",
    "    results_df = pd.DataFrame(results['hits'])\n",
    "    same_doc_index = results_df[results_df['href']==search_href].index\n",
    "    results_df.drop(same_doc_index , inplace=True)\n",
    "    results_df[0:3]\n",
    "\n",
    "    df.loc[df['href']==search_href, 'sim1_score_sent']=results_df['_score'].iloc[0]\n",
    "    df.loc[df['href']==search_href, 'sim1_href_sent'] = results_df['href'].iloc[0]\n",
    "    df.loc[df['href']==search_href, 'sim2_score_sent'] = results_df['_score'].iloc[1]\n",
    "    df.loc[df['href']==search_href, 'sim2_href_sent'] = results_df['href'].iloc[1]\n",
    "    df.loc[df['href']==search_href, 'sim3_score_sent'] = results_df['_score'].iloc[2]\n",
    "    df.loc[df['href']==search_href, 'sim3_href_sent'] = results_df['href'].iloc[2]\n",
    "\n",
    "    for index, row in results_df[0:3].iterrows():\n",
    "        document_id = row['_id']\n",
    "        facets = mq.index(\"filevine_docs_sentences\").get_document(\n",
    "            document_id=document_id,\n",
    "            expose_facets=True\n",
    "        )\n",
    "\n",
    "        df.loc[df['href']==row['href'], f'sim{index}_vector_sent'] = str(facets['_tensor_facets'][0]['_embedding'])"
   ]
  },
  {
   "cell_type": "code",
   "execution_count": null,
   "metadata": {},
   "outputs": [],
   "source": [
    "df.to_csv('embedding_df.csv')"
   ]
  }
 ],
 "metadata": {
  "kernelspec": {
   "display_name": "fv",
   "language": "python",
   "name": "python3"
  },
  "language_info": {
   "codemirror_mode": {
    "name": "ipython",
    "version": 3
   },
   "file_extension": ".py",
   "mimetype": "text/x-python",
   "name": "python",
   "nbconvert_exporter": "python",
   "pygments_lexer": "ipython3",
   "version": "3.10.13"
  }
 },
 "nbformat": 4,
 "nbformat_minor": 2
}
