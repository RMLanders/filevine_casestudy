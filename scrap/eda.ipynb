{
 "cells": [
  {
   "cell_type": "code",
   "execution_count": 3,
   "metadata": {},
   "outputs": [],
   "source": [
    "import pandas as pd\n",
    "import sqlite3 as db\n",
    "import requests\n",
    "import numpy as np\n",
    "# from ydata_profiling import ProfileReport\n",
    "# import sweetviz as sv\n",
    "# from autoviz.AutoViz_Class import AutoViz_Class"
   ]
  },
  {
   "cell_type": "code",
   "execution_count": null,
   "metadata": {},
   "outputs": [],
   "source": [
    "raw_df = pd.read_csv('./data/filevine_case_study_justice - train set_source data set.csv')\n",
    "raw_df.info()"
   ]
  },
  {
   "cell_type": "code",
   "execution_count": null,
   "metadata": {},
   "outputs": [],
   "source": [
    "import pandas as pd\n",
    "\n",
    "left_table = pd.read_csv('./data/entity_df.csv')\n",
    "right_table = pd.read_csv('./data/oyez_judges_advocates_question_conclusion.csv')\n",
    "\n",
    "joined_table = pd.merge(left_table, right_table, on='href')\n",
    "\n",
    "joined_table.to_csv('./data/full_training_set.csv')"
   ]
  },
  {
   "cell_type": "code",
   "execution_count": null,
   "metadata": {},
   "outputs": [],
   "source": [
    "settings = {\n",
    "    \"index_defaults\": {\n",
    "        \"model\": \"full_filevine_docs_whole\",\n",
    "        \"model_properties\": {\n",
    "            \"name\": \"nlpaueb/legal-bert-base-uncased\",\n",
    "            \"dimensions\": 512,\n",
    "            \"type\": \"hf\",\n",
    "        },\n",
    "    },\n",
    "}"
   ]
  },
  {
   "cell_type": "code",
   "execution_count": null,
   "metadata": {},
   "outputs": [],
   "source": [
    "settings['index_defaults']"
   ]
  },
  {
   "cell_type": "code",
   "execution_count": null,
   "metadata": {},
   "outputs": [],
   "source": [
    "import pandas as pd\n",
    "df = pd.read_csv('./data/full_training_set.csv')\n",
    "df.columns"
   ]
  },
  {
   "cell_type": "code",
   "execution_count": null,
   "metadata": {},
   "outputs": [],
   "source": [
    "joined_table.describe()"
   ]
  },
  {
   "cell_type": "code",
   "execution_count": null,
   "metadata": {},
   "outputs": [],
   "source": [
    "joined_table.info()"
   ]
  },
  {
   "cell_type": "code",
   "execution_count": null,
   "metadata": {},
   "outputs": [],
   "source": [
    "raw_df['issue_area'].unique()"
   ]
  },
  {
   "cell_type": "code",
   "execution_count": null,
   "metadata": {},
   "outputs": [],
   "source": []
  },
  {
   "cell_type": "code",
   "execution_count": null,
   "metadata": {},
   "outputs": [],
   "source": [
    "sw_df = raw_df[raw_df['first_party_winner'].notna()]\n",
    "sw_report = sv.analyze(sw_df,'first_party_winner')\n",
    "sw_report.show_html('sw_targ_var_report.html')"
   ]
  },
  {
   "cell_type": "code",
   "execution_count": null,
   "metadata": {},
   "outputs": [],
   "source": [
    "profile = ProfileReport(raw_df, title=\"FV Train Set Report\")\n",
    "profile.to_file(\"train_set_report.html\")"
   ]
  },
  {
   "cell_type": "code",
   "execution_count": null,
   "metadata": {},
   "outputs": [],
   "source": [
    "raw_df.isnull().sum().sum()"
   ]
  },
  {
   "cell_type": "code",
   "execution_count": null,
   "metadata": {},
   "outputs": [],
   "source": [
    "raw_df.isna().sum().sum()"
   ]
  },
  {
   "cell_type": "code",
   "execution_count": null,
   "metadata": {},
   "outputs": [],
   "source": [
    "raw_df[raw_df.isna().any(axis=1)]"
   ]
  },
  {
   "cell_type": "code",
   "execution_count": null,
   "metadata": {},
   "outputs": [],
   "source": [
    "raw_df.groupby('term').count().ID"
   ]
  },
  {
   "cell_type": "code",
   "execution_count": null,
   "metadata": {},
   "outputs": [],
   "source": [
    "raw_df['term'].value_counts().plot(kind='barh')"
   ]
  },
  {
   "cell_type": "code",
   "execution_count": null,
   "metadata": {},
   "outputs": [],
   "source": [
    "raw_df.head(10)"
   ]
  },
  {
   "cell_type": "code",
   "execution_count": null,
   "metadata": {},
   "outputs": [],
   "source": [
    "raw_df['first_party_winner'].describe()"
   ]
  },
  {
   "cell_type": "code",
   "execution_count": null,
   "metadata": {},
   "outputs": [],
   "source": [
    "raw_df['first_party_winner'].describe()"
   ]
  },
  {
   "cell_type": "code",
   "execution_count": null,
   "metadata": {},
   "outputs": [],
   "source": [
    "raw_df['first_party_winner'].value_counts(dropna=False)"
   ]
  },
  {
   "cell_type": "code",
   "execution_count": null,
   "metadata": {},
   "outputs": [],
   "source": [
    "name_dupes = raw_df[raw_df.duplicated(subset='name', keep=False)]\n",
    "print(name_dupes.to_markdown())"
   ]
  },
  {
   "cell_type": "code",
   "execution_count": null,
   "metadata": {},
   "outputs": [],
   "source": [
    "name_dupes[name_dupes['first_party_winner'].isna()]"
   ]
  },
  {
   "cell_type": "code",
   "execution_count": null,
   "metadata": {},
   "outputs": [],
   "source": [
    "raw_df[raw_df['first_party_winner'].isna()]"
   ]
  },
  {
   "cell_type": "code",
   "execution_count": null,
   "metadata": {},
   "outputs": [],
   "source": [
    "raw_df.groupby('first_party_winner').count()"
   ]
  },
  {
   "cell_type": "code",
   "execution_count": null,
   "metadata": {},
   "outputs": [],
   "source": [
    "raw_df.issue_area.describe()"
   ]
  },
  {
   "cell_type": "code",
   "execution_count": null,
   "metadata": {},
   "outputs": [],
   "source": [
    "raw_df.issue_area.value_counts()"
   ]
  },
  {
   "cell_type": "code",
   "execution_count": null,
   "metadata": {},
   "outputs": [],
   "source": [
    "raw_df.groupby(['first_party_winner', 'issue_area']).count().ID"
   ]
  },
  {
   "cell_type": "code",
   "execution_count": null,
   "metadata": {},
   "outputs": [],
   "source": [
    "raw_df['decision_type'].unique()"
   ]
  },
  {
   "cell_type": "code",
   "execution_count": null,
   "metadata": {},
   "outputs": [],
   "source": [
    "raw_df['disposition'].unique()"
   ]
  },
  {
   "cell_type": "code",
   "execution_count": null,
   "metadata": {},
   "outputs": [],
   "source": [
    "raw_df['href']"
   ]
  },
  {
   "cell_type": "code",
   "execution_count": null,
   "metadata": {},
   "outputs": [],
   "source": [
    "raw_df['term'].describe()"
   ]
  },
  {
   "cell_type": "code",
   "execution_count": null,
   "metadata": {},
   "outputs": [],
   "source": [
    "raw_df.term.value_counts(dropna=False).sort_values()"
   ]
  },
  {
   "cell_type": "code",
   "execution_count": null,
   "metadata": {},
   "outputs": [],
   "source": [
    "raw_df.describe()"
   ]
  },
  {
   "cell_type": "code",
   "execution_count": null,
   "metadata": {},
   "outputs": [],
   "source": [
    "raw_df.hist()"
   ]
  },
  {
   "cell_type": "code",
   "execution_count": null,
   "metadata": {},
   "outputs": [],
   "source": [
    "# df = json_normalize(response.json())"
   ]
  },
  {
   "cell_type": "code",
   "execution_count": null,
   "metadata": {},
   "outputs": [],
   "source": [
    "raw_df['href']"
   ]
  },
  {
   "cell_type": "code",
   "execution_count": null,
   "metadata": {},
   "outputs": [],
   "source": [
    "raw_df['first_party'].value_counts(dropna=False)"
   ]
  },
  {
   "cell_type": "code",
   "execution_count": null,
   "metadata": {},
   "outputs": [],
   "source": [
    "raw_df[raw_df['first_party'].isna()]"
   ]
  },
  {
   "cell_type": "code",
   "execution_count": null,
   "metadata": {},
   "outputs": [],
   "source": [
    "raw_df['second_party'].value_counts(dropna=False)"
   ]
  },
  {
   "cell_type": "code",
   "execution_count": null,
   "metadata": {},
   "outputs": [],
   "source": [
    "raw_df[raw_df['second_party'].isna()]"
   ]
  },
  {
   "cell_type": "code",
   "execution_count": null,
   "metadata": {},
   "outputs": [],
   "source": [
    "raw_df.href.str.len().value_counts()"
   ]
  },
  {
   "cell_type": "code",
   "execution_count": null,
   "metadata": {},
   "outputs": [],
   "source": [
    "raw_df[raw_df.href.str.len() == 41]"
   ]
  },
  {
   "cell_type": "code",
   "execution_count": null,
   "metadata": {},
   "outputs": [],
   "source": [
    "AV = AutoViz_Class()\n",
    "df = AV.AutoViz(\"filevine_case_study_justice - train set_source data set.csv\")"
   ]
  },
  {
   "cell_type": "code",
   "execution_count": null,
   "metadata": {},
   "outputs": [],
   "source": [
    "df = pd.read_csv('./data/full_training_set.csv')\n",
    "df.columns"
   ]
  },
  {
   "cell_type": "code",
   "execution_count": null,
   "metadata": {},
   "outputs": [],
   "source": [
    "df['judges'].info()"
   ]
  },
  {
   "cell_type": "code",
   "execution_count": null,
   "metadata": {},
   "outputs": [],
   "source": [
    "df['judges'].apply(lambda x: x.split(';'))"
   ]
  },
  {
   "cell_type": "code",
   "execution_count": null,
   "metadata": {},
   "outputs": [],
   "source": [
    "from sklearn.preprocessing import MultiLabelBinarizer\n",
    "\n",
    "mlb = MultiLabelBinarizer()\n",
    "\n",
    "df0 = pd.DataFrame(mlb.fit_transform(df['judges'].apply(lambda x: x.split(';'))),columns=mlb.classes_, index=df.href)"
   ]
  },
  {
   "cell_type": "code",
   "execution_count": null,
   "metadata": {},
   "outputs": [],
   "source": [
    "df0"
   ]
  },
  {
   "cell_type": "code",
   "execution_count": null,
   "metadata": {},
   "outputs": [],
   "source": [
    "df = pd.merge(df, df0, how='inner', on='href')"
   ]
  },
  {
   "cell_type": "code",
   "execution_count": null,
   "metadata": {},
   "outputs": [],
   "source": [
    "df0.describe()"
   ]
  },
  {
   "cell_type": "code",
   "execution_count": null,
   "metadata": {},
   "outputs": [],
   "source": [
    "df0.info()"
   ]
  },
  {
   "cell_type": "code",
   "execution_count": null,
   "metadata": {},
   "outputs": [],
   "source": [
    "df1 = pd.DataFrame(mlb.fit_transform(df[['lower_court']]),columns=mlb.classes_, index=df.href)"
   ]
  },
  {
   "cell_type": "code",
   "execution_count": null,
   "metadata": {},
   "outputs": [],
   "source": [
    "pd.get_dummies(df[['href', 'lower_court']], columns=['lower_court', ])"
   ]
  },
  {
   "cell_type": "code",
   "execution_count": null,
   "metadata": {},
   "outputs": [],
   "source": [
    "pd.DataFrame(mlb.fit_transform(df[['href', 'judges']]['judges'].apply(lambda x: x.split(';'))),columns=mlb.classes_, index=df.href)"
   ]
  },
  {
   "cell_type": "code",
   "execution_count": null,
   "metadata": {},
   "outputs": [],
   "source": [
    "df_encoded"
   ]
  },
  {
   "cell_type": "code",
   "execution_count": 4,
   "metadata": {},
   "outputs": [],
   "source": [
    "raw_df = pd.read_csv('./data/full_one_hot_encoded.csv')"
   ]
  },
  {
   "cell_type": "code",
   "execution_count": null,
   "metadata": {},
   "outputs": [],
   "source": [
    "raw_df.columns"
   ]
  },
  {
   "cell_type": "code",
   "execution_count": null,
   "metadata": {},
   "outputs": [],
   "source": [
    "raw_df.info"
   ]
  },
  {
   "cell_type": "code",
   "execution_count": null,
   "metadata": {},
   "outputs": [],
   "source": [
    "pd.set_option('display.max_columns', None)\n",
    "raw_df.head()"
   ]
  },
  {
   "cell_type": "code",
   "execution_count": 5,
   "metadata": {},
   "outputs": [
    {
     "data": {
      "text/plain": [
       "'<p>On October 10, 1980, an Oklahoma City police officer shot and killed Albert Tuttle outside a bar. Rose Marie Tuttle, Albert’s widow, sued the police officer and the city in district court under Section 1983 of the Civil Rights Act of 1871, which allows an individual to recover damages against a party who “acting under color of state law” deprives another of his constitutional rights. The district court instructed the jury that the city could be held liable only if the incident had been caused by a municipal “policy,” but a single, unusually excessive use of force could support a finding that the city was grossly negligent or deliberately indifferent in the training or supervision of its police force and was therefore liable under Section 1983. The jury returned a verdict in favor of the police officer but against the city and awarded Tuttle’s estate $1.5 million in damages. The U.S. Court of Appeals for the Tenth Circuit affirmed.</p>\\n'"
      ]
     },
     "execution_count": 5,
     "metadata": {},
     "output_type": "execute_result"
    }
   ],
   "source": [
    "raw_df['facts'][0]"
   ]
  },
  {
   "cell_type": "code",
   "execution_count": 7,
   "metadata": {},
   "outputs": [],
   "source": [
    "from spacy.lang.en import English\n",
    "\n",
    "nlp = English()\n",
    "nlp.add_pipe('sentencizer')\n",
    "doc = nlp(raw_df['facts'][0])\n",
    "sentences = [sent.text.strip() for sent in doc.sents]"
   ]
  },
  {
   "cell_type": "code",
   "execution_count": 8,
   "metadata": {},
   "outputs": [
    {
     "data": {
      "text/plain": [
       "['<p>On October 10, 1980, an Oklahoma City police officer shot and killed Albert Tuttle outside a bar.',\n",
       " 'Rose Marie Tuttle, Albert’s widow, sued the police officer and the city in district court under Section 1983 of the Civil Rights Act of 1871, which allows an individual to recover damages against a party who “acting under color of state law” deprives another of his constitutional rights.',\n",
       " 'The district court instructed the jury that the city could be held liable only if the incident had been caused by a municipal “policy,” but a single, unusually excessive use of force could support a finding that the city was grossly negligent or deliberately indifferent in the training or supervision of its police force and was therefore liable under Section 1983.',\n",
       " 'The jury returned a verdict in favor of the police officer but against the city and awarded Tuttle’s estate $1.5 million in damages.',\n",
       " 'The U.S. Court of Appeals for the Tenth Circuit affirmed.</p>']"
      ]
     },
     "execution_count": 8,
     "metadata": {},
     "output_type": "execute_result"
    }
   ],
   "source": [
    "sentences"
   ]
  },
  {
   "cell_type": "code",
   "execution_count": 16,
   "metadata": {},
   "outputs": [],
   "source": [
    "def make_sentences(txt):\n",
    "    nlp = English()\n",
    "    nlp.add_pipe('sentencizer')\n",
    "    doc = nlp(txt)\n",
    "    sentences = [sent.text.strip() for sent in doc.sents]\n",
    "    return sentences"
   ]
  },
  {
   "cell_type": "code",
   "execution_count": 28,
   "metadata": {},
   "outputs": [
    {
     "ename": "SyntaxError",
     "evalue": "closing parenthesis ')' does not match opening parenthesis '[' (4158571701.py, line 1)",
     "output_type": "error",
     "traceback": [
      "\u001b[1;36m  Cell \u001b[1;32mIn[28], line 1\u001b[1;36m\u001b[0m\n\u001b[1;33m    make_sentences(raw_df[[['facts'][0])\u001b[0m\n\u001b[1;37m                                       ^\u001b[0m\n\u001b[1;31mSyntaxError\u001b[0m\u001b[1;31m:\u001b[0m closing parenthesis ')' does not match opening parenthesis '['\n"
     ]
    }
   ],
   "source": [
    "make_sentences(raw_df[[['facts'][0])"
   ]
  },
  {
   "cell_type": "code",
   "execution_count": 19,
   "metadata": {},
   "outputs": [],
   "source": [
    "sentences = raw_df['facts'].apply(lambda txt: make_sentences(txt))"
   ]
  },
  {
   "cell_type": "code",
   "execution_count": 27,
   "metadata": {},
   "outputs": [
    {
     "data": {
      "text/plain": [
       "1"
      ]
     },
     "execution_count": 27,
     "metadata": {},
     "output_type": "execute_result"
    }
   ],
   "source": [
    "sentences.str.len().min()"
   ]
  },
  {
   "cell_type": "code",
   "execution_count": 29,
   "metadata": {},
   "outputs": [
    {
     "ename": "NameError",
     "evalue": "name 'df' is not defined",
     "output_type": "error",
     "traceback": [
      "\u001b[1;31m---------------------------------------------------------------------------\u001b[0m",
      "\u001b[1;31mNameError\u001b[0m                                 Traceback (most recent call last)",
      "Cell \u001b[1;32mIn[29], line 1\u001b[0m\n\u001b[1;32m----> 1\u001b[0m \u001b[43mdf\u001b[49m[\u001b[38;5;241m0\u001b[39m:\u001b[38;5;241m3\u001b[39m]\n",
      "\u001b[1;31mNameError\u001b[0m: name 'df' is not defined"
     ]
    }
   ],
   "source": [
    "df[0:3]"
   ]
  },
  {
   "cell_type": "code",
   "execution_count": 30,
   "metadata": {},
   "outputs": [],
   "source": [
    "import pandas as pd\n",
    "\n",
    "raw_df = pd.read_csv('./data/final_cleaned.csv')"
   ]
  },
  {
   "cell_type": "code",
   "execution_count": 36,
   "metadata": {},
   "outputs": [
    {
     "data": {
      "text/html": [
       "<div>\n",
       "<style scoped>\n",
       "    .dataframe tbody tr th:only-of-type {\n",
       "        vertical-align: middle;\n",
       "    }\n",
       "\n",
       "    .dataframe tbody tr th {\n",
       "        vertical-align: top;\n",
       "    }\n",
       "\n",
       "    .dataframe thead th {\n",
       "        text-align: right;\n",
       "    }\n",
       "</style>\n",
       "<table border=\"1\" class=\"dataframe\">\n",
       "  <thead>\n",
       "    <tr style=\"text-align: right;\">\n",
       "      <th></th>\n",
       "      <th>Unnamed: 0</th>\n",
       "      <th>href</th>\n",
       "      <th>term</th>\n",
       "      <th>facts_len</th>\n",
       "      <th>majority_vote</th>\n",
       "      <th>minority_vote</th>\n",
       "      <th>first_party_winner</th>\n",
       "      <th>issue_area</th>\n",
       "      <th>first_party_entity</th>\n",
       "      <th>second_party_entity</th>\n",
       "      <th>...</th>\n",
       "      <th>sim3_facts_vector</th>\n",
       "      <th>sim3_issue_area_vector</th>\n",
       "      <th>sim3_legal_question_vector</th>\n",
       "      <th>sim3_conclusion_vector</th>\n",
       "      <th>sim3_href</th>\n",
       "      <th>sim3_facts_score</th>\n",
       "      <th>sim3_issue_area_score</th>\n",
       "      <th>sim3_legal_question_score</th>\n",
       "      <th>sim3_conclusion_score</th>\n",
       "      <th>sim0_conclusion_vector</th>\n",
       "    </tr>\n",
       "  </thead>\n",
       "  <tbody>\n",
       "    <tr>\n",
       "      <th>0</th>\n",
       "      <td>0</td>\n",
       "      <td>https://api.oyez.org/cases/1984/83-1919</td>\n",
       "      <td>1984</td>\n",
       "      <td>952</td>\n",
       "      <td>7</td>\n",
       "      <td>1</td>\n",
       "      <td>True</td>\n",
       "      <td>civil rights</td>\n",
       "      <td>GPE</td>\n",
       "      <td>PERSON</td>\n",
       "      <td>...</td>\n",
       "      <td>NaN</td>\n",
       "      <td>NaN</td>\n",
       "      <td>NaN</td>\n",
       "      <td>NaN</td>\n",
       "      <td>NaN</td>\n",
       "      <td>0.864617</td>\n",
       "      <td>1.0</td>\n",
       "      <td>0.875497</td>\n",
       "      <td>0.907017</td>\n",
       "      <td>NaN</td>\n",
       "    </tr>\n",
       "    <tr>\n",
       "      <th>1</th>\n",
       "      <td>1</td>\n",
       "      <td>https://api.oyez.org/cases/2009/08-1332</td>\n",
       "      <td>2009</td>\n",
       "      <td>1494</td>\n",
       "      <td>9</td>\n",
       "      <td>0</td>\n",
       "      <td>True</td>\n",
       "      <td>criminal procedure</td>\n",
       "      <td>GPE</td>\n",
       "      <td>PERSON</td>\n",
       "      <td>...</td>\n",
       "      <td>NaN</td>\n",
       "      <td>NaN</td>\n",
       "      <td>NaN</td>\n",
       "      <td>NaN</td>\n",
       "      <td>NaN</td>\n",
       "      <td>0.869906</td>\n",
       "      <td>1.0</td>\n",
       "      <td>0.880950</td>\n",
       "      <td>0.902657</td>\n",
       "      <td>NaN</td>\n",
       "    </tr>\n",
       "    <tr>\n",
       "      <th>2</th>\n",
       "      <td>2</td>\n",
       "      <td>https://api.oyez.org/cases/1976/75-1150</td>\n",
       "      <td>1976</td>\n",
       "      <td>430</td>\n",
       "      <td>5</td>\n",
       "      <td>4</td>\n",
       "      <td>True</td>\n",
       "      <td>economic activity</td>\n",
       "      <td>GPE</td>\n",
       "      <td>GPE</td>\n",
       "      <td>...</td>\n",
       "      <td>NaN</td>\n",
       "      <td>NaN</td>\n",
       "      <td>NaN</td>\n",
       "      <td>NaN</td>\n",
       "      <td>NaN</td>\n",
       "      <td>0.860078</td>\n",
       "      <td>1.0</td>\n",
       "      <td>0.897425</td>\n",
       "      <td>0.884804</td>\n",
       "      <td>NaN</td>\n",
       "    </tr>\n",
       "    <tr>\n",
       "      <th>3</th>\n",
       "      <td>3</td>\n",
       "      <td>https://api.oyez.org/cases/1977/77-404</td>\n",
       "      <td>1977</td>\n",
       "      <td>162</td>\n",
       "      <td>7</td>\n",
       "      <td>2</td>\n",
       "      <td>True</td>\n",
       "      <td>economic activity</td>\n",
       "      <td>NaN</td>\n",
       "      <td>GPE</td>\n",
       "      <td>...</td>\n",
       "      <td>NaN</td>\n",
       "      <td>NaN</td>\n",
       "      <td>NaN</td>\n",
       "      <td>NaN</td>\n",
       "      <td>NaN</td>\n",
       "      <td>0.858339</td>\n",
       "      <td>1.0</td>\n",
       "      <td>0.913134</td>\n",
       "      <td>0.892189</td>\n",
       "      <td>NaN</td>\n",
       "    </tr>\n",
       "    <tr>\n",
       "      <th>4</th>\n",
       "      <td>4</td>\n",
       "      <td>https://api.oyez.org/cases/2004/03-1601</td>\n",
       "      <td>2004</td>\n",
       "      <td>1094</td>\n",
       "      <td>9</td>\n",
       "      <td>0</td>\n",
       "      <td>True</td>\n",
       "      <td>civil rights</td>\n",
       "      <td>GPE</td>\n",
       "      <td>PERSON</td>\n",
       "      <td>...</td>\n",
       "      <td>NaN</td>\n",
       "      <td>NaN</td>\n",
       "      <td>NaN</td>\n",
       "      <td>[0.0029212855733931065, -0.0003573569701984524...</td>\n",
       "      <td>NaN</td>\n",
       "      <td>0.877462</td>\n",
       "      <td>1.0</td>\n",
       "      <td>0.880031</td>\n",
       "      <td>0.903994</td>\n",
       "      <td>NaN</td>\n",
       "    </tr>\n",
       "    <tr>\n",
       "      <th>...</th>\n",
       "      <td>...</td>\n",
       "      <td>...</td>\n",
       "      <td>...</td>\n",
       "      <td>...</td>\n",
       "      <td>...</td>\n",
       "      <td>...</td>\n",
       "      <td>...</td>\n",
       "      <td>...</td>\n",
       "      <td>...</td>\n",
       "      <td>...</td>\n",
       "      <td>...</td>\n",
       "      <td>...</td>\n",
       "      <td>...</td>\n",
       "      <td>...</td>\n",
       "      <td>...</td>\n",
       "      <td>...</td>\n",
       "      <td>...</td>\n",
       "      <td>...</td>\n",
       "      <td>...</td>\n",
       "      <td>...</td>\n",
       "      <td>...</td>\n",
       "    </tr>\n",
       "    <tr>\n",
       "      <th>2692</th>\n",
       "      <td>2692</td>\n",
       "      <td>https://api.oyez.org/cases/2014/13-628</td>\n",
       "      <td>2014</td>\n",
       "      <td>1143</td>\n",
       "      <td>6</td>\n",
       "      <td>3</td>\n",
       "      <td>False</td>\n",
       "      <td>miscellaneous</td>\n",
       "      <td>PERSON</td>\n",
       "      <td>ORG</td>\n",
       "      <td>...</td>\n",
       "      <td>NaN</td>\n",
       "      <td>NaN</td>\n",
       "      <td>NaN</td>\n",
       "      <td>NaN</td>\n",
       "      <td>NaN</td>\n",
       "      <td>NaN</td>\n",
       "      <td>NaN</td>\n",
       "      <td>NaN</td>\n",
       "      <td>NaN</td>\n",
       "      <td>NaN</td>\n",
       "    </tr>\n",
       "    <tr>\n",
       "      <th>2693</th>\n",
       "      <td>2693</td>\n",
       "      <td>https://api.oyez.org/cases/1992/92-94</td>\n",
       "      <td>1992</td>\n",
       "      <td>972</td>\n",
       "      <td>5</td>\n",
       "      <td>4</td>\n",
       "      <td>True</td>\n",
       "      <td>first amendment</td>\n",
       "      <td>PERSON</td>\n",
       "      <td>ORG</td>\n",
       "      <td>...</td>\n",
       "      <td>NaN</td>\n",
       "      <td>NaN</td>\n",
       "      <td>NaN</td>\n",
       "      <td>NaN</td>\n",
       "      <td>NaN</td>\n",
       "      <td>NaN</td>\n",
       "      <td>NaN</td>\n",
       "      <td>NaN</td>\n",
       "      <td>NaN</td>\n",
       "      <td>NaN</td>\n",
       "    </tr>\n",
       "    <tr>\n",
       "      <th>2694</th>\n",
       "      <td>2694</td>\n",
       "      <td>https://api.oyez.org/cases/2015/14-1418</td>\n",
       "      <td>2015</td>\n",
       "      <td>1388</td>\n",
       "      <td>8</td>\n",
       "      <td>0</td>\n",
       "      <td>True</td>\n",
       "      <td>first amendment</td>\n",
       "      <td>PERSON</td>\n",
       "      <td>ORG</td>\n",
       "      <td>...</td>\n",
       "      <td>NaN</td>\n",
       "      <td>NaN</td>\n",
       "      <td>NaN</td>\n",
       "      <td>NaN</td>\n",
       "      <td>NaN</td>\n",
       "      <td>NaN</td>\n",
       "      <td>NaN</td>\n",
       "      <td>NaN</td>\n",
       "      <td>NaN</td>\n",
       "      <td>NaN</td>\n",
       "    </tr>\n",
       "    <tr>\n",
       "      <th>2695</th>\n",
       "      <td>2695</td>\n",
       "      <td>https://api.oyez.org/cases/2006/05-1508</td>\n",
       "      <td>2006</td>\n",
       "      <td>1236</td>\n",
       "      <td>5</td>\n",
       "      <td>4</td>\n",
       "      <td>False</td>\n",
       "      <td>judicial power</td>\n",
       "      <td>ORG</td>\n",
       "      <td>ORG</td>\n",
       "      <td>...</td>\n",
       "      <td>NaN</td>\n",
       "      <td>NaN</td>\n",
       "      <td>NaN</td>\n",
       "      <td>NaN</td>\n",
       "      <td>NaN</td>\n",
       "      <td>NaN</td>\n",
       "      <td>NaN</td>\n",
       "      <td>NaN</td>\n",
       "      <td>NaN</td>\n",
       "      <td>NaN</td>\n",
       "    </tr>\n",
       "    <tr>\n",
       "      <th>2696</th>\n",
       "      <td>2696</td>\n",
       "      <td>https://api.oyez.org/cases/1977/76-1484</td>\n",
       "      <td>1977</td>\n",
       "      <td>692</td>\n",
       "      <td>5</td>\n",
       "      <td>3</td>\n",
       "      <td>True</td>\n",
       "      <td>criminal procedure</td>\n",
       "      <td>PERSON</td>\n",
       "      <td>ORG</td>\n",
       "      <td>...</td>\n",
       "      <td>NaN</td>\n",
       "      <td>NaN</td>\n",
       "      <td>NaN</td>\n",
       "      <td>[0.021846678107976913, -0.0024025090970098972,...</td>\n",
       "      <td>NaN</td>\n",
       "      <td>NaN</td>\n",
       "      <td>NaN</td>\n",
       "      <td>NaN</td>\n",
       "      <td>NaN</td>\n",
       "      <td>NaN</td>\n",
       "    </tr>\n",
       "  </tbody>\n",
       "</table>\n",
       "<p>2697 rows × 217 columns</p>\n",
       "</div>"
      ],
      "text/plain": [
       "      Unnamed: 0                                     href  term  facts_len  \\\n",
       "0              0  https://api.oyez.org/cases/1984/83-1919  1984        952   \n",
       "1              1  https://api.oyez.org/cases/2009/08-1332  2009       1494   \n",
       "2              2  https://api.oyez.org/cases/1976/75-1150  1976        430   \n",
       "3              3   https://api.oyez.org/cases/1977/77-404  1977        162   \n",
       "4              4  https://api.oyez.org/cases/2004/03-1601  2004       1094   \n",
       "...          ...                                      ...   ...        ...   \n",
       "2692        2692   https://api.oyez.org/cases/2014/13-628  2014       1143   \n",
       "2693        2693    https://api.oyez.org/cases/1992/92-94  1992        972   \n",
       "2694        2694  https://api.oyez.org/cases/2015/14-1418  2015       1388   \n",
       "2695        2695  https://api.oyez.org/cases/2006/05-1508  2006       1236   \n",
       "2696        2696  https://api.oyez.org/cases/1977/76-1484  1977        692   \n",
       "\n",
       "      majority_vote  minority_vote first_party_winner          issue_area  \\\n",
       "0                 7              1               True        civil rights   \n",
       "1                 9              0               True  criminal procedure   \n",
       "2                 5              4               True   economic activity   \n",
       "3                 7              2               True   economic activity   \n",
       "4                 9              0               True        civil rights   \n",
       "...             ...            ...                ...                 ...   \n",
       "2692              6              3              False       miscellaneous   \n",
       "2693              5              4               True     first amendment   \n",
       "2694              8              0               True     first amendment   \n",
       "2695              5              4              False      judicial power   \n",
       "2696              5              3               True  criminal procedure   \n",
       "\n",
       "     first_party_entity second_party_entity  ...  sim3_facts_vector  \\\n",
       "0                   GPE              PERSON  ...                NaN   \n",
       "1                   GPE              PERSON  ...                NaN   \n",
       "2                   GPE                 GPE  ...                NaN   \n",
       "3                   NaN                 GPE  ...                NaN   \n",
       "4                   GPE              PERSON  ...                NaN   \n",
       "...                 ...                 ...  ...                ...   \n",
       "2692             PERSON                 ORG  ...                NaN   \n",
       "2693             PERSON                 ORG  ...                NaN   \n",
       "2694             PERSON                 ORG  ...                NaN   \n",
       "2695                ORG                 ORG  ...                NaN   \n",
       "2696             PERSON                 ORG  ...                NaN   \n",
       "\n",
       "      sim3_issue_area_vector  sim3_legal_question_vector  \\\n",
       "0                        NaN                         NaN   \n",
       "1                        NaN                         NaN   \n",
       "2                        NaN                         NaN   \n",
       "3                        NaN                         NaN   \n",
       "4                        NaN                         NaN   \n",
       "...                      ...                         ...   \n",
       "2692                     NaN                         NaN   \n",
       "2693                     NaN                         NaN   \n",
       "2694                     NaN                         NaN   \n",
       "2695                     NaN                         NaN   \n",
       "2696                     NaN                         NaN   \n",
       "\n",
       "                                 sim3_conclusion_vector  sim3_href  \\\n",
       "0                                                   NaN        NaN   \n",
       "1                                                   NaN        NaN   \n",
       "2                                                   NaN        NaN   \n",
       "3                                                   NaN        NaN   \n",
       "4     [0.0029212855733931065, -0.0003573569701984524...        NaN   \n",
       "...                                                 ...        ...   \n",
       "2692                                                NaN        NaN   \n",
       "2693                                                NaN        NaN   \n",
       "2694                                                NaN        NaN   \n",
       "2695                                                NaN        NaN   \n",
       "2696  [0.021846678107976913, -0.0024025090970098972,...        NaN   \n",
       "\n",
       "      sim3_facts_score  sim3_issue_area_score  sim3_legal_question_score  \\\n",
       "0             0.864617                    1.0                   0.875497   \n",
       "1             0.869906                    1.0                   0.880950   \n",
       "2             0.860078                    1.0                   0.897425   \n",
       "3             0.858339                    1.0                   0.913134   \n",
       "4             0.877462                    1.0                   0.880031   \n",
       "...                ...                    ...                        ...   \n",
       "2692               NaN                    NaN                        NaN   \n",
       "2693               NaN                    NaN                        NaN   \n",
       "2694               NaN                    NaN                        NaN   \n",
       "2695               NaN                    NaN                        NaN   \n",
       "2696               NaN                    NaN                        NaN   \n",
       "\n",
       "      sim3_conclusion_score  sim0_conclusion_vector  \n",
       "0                  0.907017                     NaN  \n",
       "1                  0.902657                     NaN  \n",
       "2                  0.884804                     NaN  \n",
       "3                  0.892189                     NaN  \n",
       "4                  0.903994                     NaN  \n",
       "...                     ...                     ...  \n",
       "2692                    NaN                     NaN  \n",
       "2693                    NaN                     NaN  \n",
       "2694                    NaN                     NaN  \n",
       "2695                    NaN                     NaN  \n",
       "2696                    NaN                     NaN  \n",
       "\n",
       "[2697 rows x 217 columns]"
      ]
     },
     "execution_count": 36,
     "metadata": {},
     "output_type": "execute_result"
    }
   ],
   "source": [
    "raw_df"
   ]
  },
  {
   "cell_type": "code",
   "execution_count": 34,
   "metadata": {},
   "outputs": [],
   "source": [
    "a = raw_df[0:3]"
   ]
  },
  {
   "cell_type": "code",
   "execution_count": 35,
   "metadata": {},
   "outputs": [
    {
     "data": {
      "text/html": [
       "<div>\n",
       "<style scoped>\n",
       "    .dataframe tbody tr th:only-of-type {\n",
       "        vertical-align: middle;\n",
       "    }\n",
       "\n",
       "    .dataframe tbody tr th {\n",
       "        vertical-align: top;\n",
       "    }\n",
       "\n",
       "    .dataframe thead th {\n",
       "        text-align: right;\n",
       "    }\n",
       "</style>\n",
       "<table border=\"1\" class=\"dataframe\">\n",
       "  <thead>\n",
       "    <tr style=\"text-align: right;\">\n",
       "      <th></th>\n",
       "      <th>Unnamed: 0</th>\n",
       "      <th>href</th>\n",
       "      <th>term</th>\n",
       "      <th>facts_len</th>\n",
       "      <th>majority_vote</th>\n",
       "      <th>minority_vote</th>\n",
       "      <th>first_party_winner</th>\n",
       "      <th>issue_area</th>\n",
       "      <th>first_party_entity</th>\n",
       "      <th>second_party_entity</th>\n",
       "      <th>...</th>\n",
       "      <th>sim3_facts_vector</th>\n",
       "      <th>sim3_issue_area_vector</th>\n",
       "      <th>sim3_legal_question_vector</th>\n",
       "      <th>sim3_conclusion_vector</th>\n",
       "      <th>sim3_href</th>\n",
       "      <th>sim3_facts_score</th>\n",
       "      <th>sim3_issue_area_score</th>\n",
       "      <th>sim3_legal_question_score</th>\n",
       "      <th>sim3_conclusion_score</th>\n",
       "      <th>sim0_conclusion_vector</th>\n",
       "    </tr>\n",
       "  </thead>\n",
       "  <tbody>\n",
       "    <tr>\n",
       "      <th>0</th>\n",
       "      <td>0</td>\n",
       "      <td>https://api.oyez.org/cases/1984/83-1919</td>\n",
       "      <td>1984</td>\n",
       "      <td>952</td>\n",
       "      <td>7</td>\n",
       "      <td>1</td>\n",
       "      <td>True</td>\n",
       "      <td>civil rights</td>\n",
       "      <td>GPE</td>\n",
       "      <td>PERSON</td>\n",
       "      <td>...</td>\n",
       "      <td>NaN</td>\n",
       "      <td>NaN</td>\n",
       "      <td>NaN</td>\n",
       "      <td>NaN</td>\n",
       "      <td>NaN</td>\n",
       "      <td>0.864617</td>\n",
       "      <td>1.0</td>\n",
       "      <td>0.875497</td>\n",
       "      <td>0.907017</td>\n",
       "      <td>NaN</td>\n",
       "    </tr>\n",
       "    <tr>\n",
       "      <th>1</th>\n",
       "      <td>1</td>\n",
       "      <td>https://api.oyez.org/cases/2009/08-1332</td>\n",
       "      <td>2009</td>\n",
       "      <td>1494</td>\n",
       "      <td>9</td>\n",
       "      <td>0</td>\n",
       "      <td>True</td>\n",
       "      <td>criminal procedure</td>\n",
       "      <td>GPE</td>\n",
       "      <td>PERSON</td>\n",
       "      <td>...</td>\n",
       "      <td>NaN</td>\n",
       "      <td>NaN</td>\n",
       "      <td>NaN</td>\n",
       "      <td>NaN</td>\n",
       "      <td>NaN</td>\n",
       "      <td>0.869906</td>\n",
       "      <td>1.0</td>\n",
       "      <td>0.880950</td>\n",
       "      <td>0.902657</td>\n",
       "      <td>NaN</td>\n",
       "    </tr>\n",
       "    <tr>\n",
       "      <th>2</th>\n",
       "      <td>2</td>\n",
       "      <td>https://api.oyez.org/cases/1976/75-1150</td>\n",
       "      <td>1976</td>\n",
       "      <td>430</td>\n",
       "      <td>5</td>\n",
       "      <td>4</td>\n",
       "      <td>True</td>\n",
       "      <td>economic activity</td>\n",
       "      <td>GPE</td>\n",
       "      <td>GPE</td>\n",
       "      <td>...</td>\n",
       "      <td>NaN</td>\n",
       "      <td>NaN</td>\n",
       "      <td>NaN</td>\n",
       "      <td>NaN</td>\n",
       "      <td>NaN</td>\n",
       "      <td>0.860078</td>\n",
       "      <td>1.0</td>\n",
       "      <td>0.897425</td>\n",
       "      <td>0.884804</td>\n",
       "      <td>NaN</td>\n",
       "    </tr>\n",
       "  </tbody>\n",
       "</table>\n",
       "<p>3 rows × 217 columns</p>\n",
       "</div>"
      ],
      "text/plain": [
       "   Unnamed: 0                                     href  term  facts_len  \\\n",
       "0           0  https://api.oyez.org/cases/1984/83-1919  1984        952   \n",
       "1           1  https://api.oyez.org/cases/2009/08-1332  2009       1494   \n",
       "2           2  https://api.oyez.org/cases/1976/75-1150  1976        430   \n",
       "\n",
       "   majority_vote  minority_vote first_party_winner          issue_area  \\\n",
       "0              7              1               True        civil rights   \n",
       "1              9              0               True  criminal procedure   \n",
       "2              5              4               True   economic activity   \n",
       "\n",
       "  first_party_entity second_party_entity  ...  sim3_facts_vector  \\\n",
       "0                GPE              PERSON  ...                NaN   \n",
       "1                GPE              PERSON  ...                NaN   \n",
       "2                GPE                 GPE  ...                NaN   \n",
       "\n",
       "   sim3_issue_area_vector  sim3_legal_question_vector  sim3_conclusion_vector  \\\n",
       "0                     NaN                         NaN                     NaN   \n",
       "1                     NaN                         NaN                     NaN   \n",
       "2                     NaN                         NaN                     NaN   \n",
       "\n",
       "   sim3_href  sim3_facts_score  sim3_issue_area_score  \\\n",
       "0        NaN          0.864617                    1.0   \n",
       "1        NaN          0.869906                    1.0   \n",
       "2        NaN          0.860078                    1.0   \n",
       "\n",
       "   sim3_legal_question_score  sim3_conclusion_score  sim0_conclusion_vector  \n",
       "0                   0.875497               0.907017                     NaN  \n",
       "1                   0.880950               0.902657                     NaN  \n",
       "2                   0.897425               0.884804                     NaN  \n",
       "\n",
       "[3 rows x 217 columns]"
      ]
     },
     "execution_count": 35,
     "metadata": {},
     "output_type": "execute_result"
    }
   ],
   "source": [
    "a"
   ]
  },
  {
   "cell_type": "code",
   "execution_count": 1,
   "metadata": {},
   "outputs": [],
   "source": [
    "import pandas as pd\n",
    "\n",
    "df = pd.read_csv('./data/final_script.csv')"
   ]
  },
  {
   "cell_type": "code",
   "execution_count": 3,
   "metadata": {},
   "outputs": [
    {
     "data": {
      "text/html": [
       "<div>\n",
       "<style scoped>\n",
       "    .dataframe tbody tr th:only-of-type {\n",
       "        vertical-align: middle;\n",
       "    }\n",
       "\n",
       "    .dataframe tbody tr th {\n",
       "        vertical-align: top;\n",
       "    }\n",
       "\n",
       "    .dataframe thead th {\n",
       "        text-align: right;\n",
       "    }\n",
       "</style>\n",
       "<table border=\"1\" class=\"dataframe\">\n",
       "  <thead>\n",
       "    <tr style=\"text-align: right;\">\n",
       "      <th></th>\n",
       "      <th>Unnamed: 0.3</th>\n",
       "      <th>Unnamed: 0.2</th>\n",
       "      <th>Unnamed: 0</th>\n",
       "      <th>Unnamed: 0.1</th>\n",
       "      <th>Unnamed: 0_x</th>\n",
       "      <th>ID</th>\n",
       "      <th>minority_vote</th>\n",
       "      <th>sim1_facts_score</th>\n",
       "      <th>sim1_issue_area_score</th>\n",
       "      <th>sim1_legal_question_score</th>\n",
       "      <th>sim1_conclusion_score</th>\n",
       "      <th>sim2_facts_score</th>\n",
       "      <th>sim2_issue_area_score</th>\n",
       "    </tr>\n",
       "  </thead>\n",
       "  <tbody>\n",
       "    <tr>\n",
       "      <th>count</th>\n",
       "      <td>2697.000000</td>\n",
       "      <td>2697.000000</td>\n",
       "      <td>2697.000000</td>\n",
       "      <td>2697.000000</td>\n",
       "      <td>2697.000000</td>\n",
       "      <td>2697.000000</td>\n",
       "      <td>2697.000000</td>\n",
       "      <td>2697.000000</td>\n",
       "      <td>2697.000000</td>\n",
       "      <td>2697.000000</td>\n",
       "      <td>2697.000000</td>\n",
       "      <td>2697.000000</td>\n",
       "      <td>2697.000000</td>\n",
       "    </tr>\n",
       "    <tr>\n",
       "      <th>mean</th>\n",
       "      <td>1348.000000</td>\n",
       "      <td>1348.000000</td>\n",
       "      <td>1348.000000</td>\n",
       "      <td>1348.000000</td>\n",
       "      <td>1653.994067</td>\n",
       "      <td>56355.736374</td>\n",
       "      <td>2.171301</td>\n",
       "      <td>0.891298</td>\n",
       "      <td>0.993267</td>\n",
       "      <td>0.886249</td>\n",
       "      <td>0.883740</td>\n",
       "      <td>0.884497</td>\n",
       "      <td>0.993107</td>\n",
       "    </tr>\n",
       "    <tr>\n",
       "      <th>std</th>\n",
       "      <td>778.701162</td>\n",
       "      <td>778.701162</td>\n",
       "      <td>778.701162</td>\n",
       "      <td>778.701162</td>\n",
       "      <td>962.684940</td>\n",
       "      <td>3640.094799</td>\n",
       "      <td>23.878920</td>\n",
       "      <td>0.017172</td>\n",
       "      <td>0.031918</td>\n",
       "      <td>0.034831</td>\n",
       "      <td>0.038310</td>\n",
       "      <td>0.012953</td>\n",
       "      <td>0.032408</td>\n",
       "    </tr>\n",
       "    <tr>\n",
       "      <th>min</th>\n",
       "      <td>0.000000</td>\n",
       "      <td>0.000000</td>\n",
       "      <td>0.000000</td>\n",
       "      <td>0.000000</td>\n",
       "      <td>0.000000</td>\n",
       "      <td>50606.000000</td>\n",
       "      <td>0.000000</td>\n",
       "      <td>0.825752</td>\n",
       "      <td>0.841592</td>\n",
       "      <td>0.825512</td>\n",
       "      <td>0.826428</td>\n",
       "      <td>0.825445</td>\n",
       "      <td>0.839778</td>\n",
       "    </tr>\n",
       "    <tr>\n",
       "      <th>25%</th>\n",
       "      <td>674.000000</td>\n",
       "      <td>674.000000</td>\n",
       "      <td>674.000000</td>\n",
       "      <td>674.000000</td>\n",
       "      <td>809.000000</td>\n",
       "      <td>54289.000000</td>\n",
       "      <td>0.000000</td>\n",
       "      <td>0.881188</td>\n",
       "      <td>1.000000</td>\n",
       "      <td>0.843087</td>\n",
       "      <td>0.828414</td>\n",
       "      <td>0.876807</td>\n",
       "      <td>1.000000</td>\n",
       "    </tr>\n",
       "    <tr>\n",
       "      <th>50%</th>\n",
       "      <td>1348.000000</td>\n",
       "      <td>1348.000000</td>\n",
       "      <td>1348.000000</td>\n",
       "      <td>1348.000000</td>\n",
       "      <td>1662.000000</td>\n",
       "      <td>55271.000000</td>\n",
       "      <td>2.000000</td>\n",
       "      <td>0.888613</td>\n",
       "      <td>1.000000</td>\n",
       "      <td>0.891971</td>\n",
       "      <td>0.898532</td>\n",
       "      <td>0.883745</td>\n",
       "      <td>1.000000</td>\n",
       "    </tr>\n",
       "    <tr>\n",
       "      <th>75%</th>\n",
       "      <td>2022.000000</td>\n",
       "      <td>2022.000000</td>\n",
       "      <td>2022.000000</td>\n",
       "      <td>2022.000000</td>\n",
       "      <td>2487.000000</td>\n",
       "      <td>59478.000000</td>\n",
       "      <td>3.000000</td>\n",
       "      <td>0.898856</td>\n",
       "      <td>1.000000</td>\n",
       "      <td>0.910318</td>\n",
       "      <td>0.911055</td>\n",
       "      <td>0.891416</td>\n",
       "      <td>1.000000</td>\n",
       "    </tr>\n",
       "    <tr>\n",
       "      <th>max</th>\n",
       "      <td>2696.000000</td>\n",
       "      <td>2696.000000</td>\n",
       "      <td>2696.000000</td>\n",
       "      <td>2696.000000</td>\n",
       "      <td>3302.000000</td>\n",
       "      <td>63335.000000</td>\n",
       "      <td>1239.000000</td>\n",
       "      <td>0.996594</td>\n",
       "      <td>1.000000</td>\n",
       "      <td>1.000000</td>\n",
       "      <td>1.000000</td>\n",
       "      <td>0.953390</td>\n",
       "      <td>1.000000</td>\n",
       "    </tr>\n",
       "  </tbody>\n",
       "</table>\n",
       "</div>"
      ],
      "text/plain": [
       "       Unnamed: 0.3  Unnamed: 0.2   Unnamed: 0  Unnamed: 0.1  Unnamed: 0_x  \\\n",
       "count   2697.000000   2697.000000  2697.000000   2697.000000   2697.000000   \n",
       "mean    1348.000000   1348.000000  1348.000000   1348.000000   1653.994067   \n",
       "std      778.701162    778.701162   778.701162    778.701162    962.684940   \n",
       "min        0.000000      0.000000     0.000000      0.000000      0.000000   \n",
       "25%      674.000000    674.000000   674.000000    674.000000    809.000000   \n",
       "50%     1348.000000   1348.000000  1348.000000   1348.000000   1662.000000   \n",
       "75%     2022.000000   2022.000000  2022.000000   2022.000000   2487.000000   \n",
       "max     2696.000000   2696.000000  2696.000000   2696.000000   3302.000000   \n",
       "\n",
       "                 ID  minority_vote  sim1_facts_score  sim1_issue_area_score  \\\n",
       "count   2697.000000    2697.000000       2697.000000            2697.000000   \n",
       "mean   56355.736374       2.171301          0.891298               0.993267   \n",
       "std     3640.094799      23.878920          0.017172               0.031918   \n",
       "min    50606.000000       0.000000          0.825752               0.841592   \n",
       "25%    54289.000000       0.000000          0.881188               1.000000   \n",
       "50%    55271.000000       2.000000          0.888613               1.000000   \n",
       "75%    59478.000000       3.000000          0.898856               1.000000   \n",
       "max    63335.000000    1239.000000          0.996594               1.000000   \n",
       "\n",
       "       sim1_legal_question_score  sim1_conclusion_score  sim2_facts_score  \\\n",
       "count                2697.000000            2697.000000       2697.000000   \n",
       "mean                    0.886249               0.883740          0.884497   \n",
       "std                     0.034831               0.038310          0.012953   \n",
       "min                     0.825512               0.826428          0.825445   \n",
       "25%                     0.843087               0.828414          0.876807   \n",
       "50%                     0.891971               0.898532          0.883745   \n",
       "75%                     0.910318               0.911055          0.891416   \n",
       "max                     1.000000               1.000000          0.953390   \n",
       "\n",
       "       sim2_issue_area_score  \n",
       "count            2697.000000  \n",
       "mean                0.993107  \n",
       "std                 0.032408  \n",
       "min                 0.839778  \n",
       "25%                 1.000000  \n",
       "50%                 1.000000  \n",
       "75%                 1.000000  \n",
       "max                 1.000000  "
      ]
     },
     "execution_count": 3,
     "metadata": {},
     "output_type": "execute_result"
    }
   ],
   "source": [
    "df.describe()"
   ]
  },
  {
   "cell_type": "code",
   "execution_count": 4,
   "metadata": {},
   "outputs": [
    {
     "name": "stdout",
     "output_type": "stream",
     "text": [
      "<class 'pandas.core.frame.DataFrame'>\n",
      "RangeIndex: 2697 entries, 0 to 2696\n",
      "Data columns (total 40 columns):\n",
      " #   Column                     Non-Null Count  Dtype  \n",
      "---  ------                     --------------  -----  \n",
      " 0   Unnamed: 0.3               2697 non-null   int64  \n",
      " 1   Unnamed: 0.2               2697 non-null   int64  \n",
      " 2   Unnamed: 0                 2697 non-null   int64  \n",
      " 3   Unnamed: 0.1               2697 non-null   int64  \n",
      " 4   Unnamed: 0_x               2697 non-null   int64  \n",
      " 5   ID                         2697 non-null   int64  \n",
      " 6   name                       2697 non-null   object \n",
      " 7   href                       2697 non-null   object \n",
      " 8   docket                     2687 non-null   object \n",
      " 9   term                       2697 non-null   object \n",
      " 10  first_party                2696 non-null   object \n",
      " 11  second_party               2696 non-null   object \n",
      " 12  facts                      2697 non-null   object \n",
      " 13  facts_len                  2697 non-null   object \n",
      " 14  majority_vote              2697 non-null   object \n",
      " 15  minority_vote              2697 non-null   int64  \n",
      " 16  first_party_winner         2685 non-null   object \n",
      " 17  decision_type              2692 non-null   object \n",
      " 18  disposition                2638 non-null   object \n",
      " 19  issue_area                 2584 non-null   object \n",
      " 20  first_party_entity         2624 non-null   object \n",
      " 21  second_party_entity        2610 non-null   object \n",
      " 22  Unnamed: 0_y               2697 non-null   object \n",
      " 23  judges                     2697 non-null   object \n",
      " 24  lower_court                2697 non-null   object \n",
      " 25  legal_question             2697 non-null   object \n",
      " 26  conclusion                 2697 non-null   object \n",
      " 27  facts_clean                2697 non-null   object \n",
      " 28  sim1_facts_score           2697 non-null   float64\n",
      " 29  sim1_issue_area_score      2697 non-null   float64\n",
      " 30  sim1_legal_question_score  2697 non-null   float64\n",
      " 31  sim1_conclusion_score      2697 non-null   float64\n",
      " 32  sim2_facts_score           2697 non-null   float64\n",
      " 33  sim2_issue_area_score      2697 non-null   float64\n",
      " 34  sim1_facts_href            2697 non-null   object \n",
      " 35  sim2_facts_href            2697 non-null   object \n",
      " 36  sim1_issue_area_href       2697 non-null   object \n",
      " 37  sim2_issue_area_href       2697 non-null   object \n",
      " 38  sim1_legal_question_href   2697 non-null   object \n",
      " 39  sim1_conclusion_href       2697 non-null   object \n",
      "dtypes: float64(6), int64(7), object(27)\n",
      "memory usage: 842.9+ KB\n"
     ]
    }
   ],
   "source": [
    "df.info()"
   ]
  }
 ],
 "metadata": {
  "kernelspec": {
   "display_name": "Python 3",
   "language": "python",
   "name": "python3"
  },
  "language_info": {
   "codemirror_mode": {
    "name": "ipython",
    "version": 3
   },
   "file_extension": ".py",
   "mimetype": "text/x-python",
   "name": "python",
   "nbconvert_exporter": "python",
   "pygments_lexer": "ipython3",
   "version": "3.10.13"
  }
 },
 "nbformat": 4,
 "nbformat_minor": 2
}
