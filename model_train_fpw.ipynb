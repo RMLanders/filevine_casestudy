{
 "cells": [
  {
   "cell_type": "code",
   "execution_count": 1,
   "metadata": {},
   "outputs": [],
   "source": [
    "import xgboost as xgb\n",
    "from xgboost import XGBClassifier\n",
    "import sklearn\n",
    "from sklearn.model_selection import train_test_split\n",
    "import pandas as pd\n",
    "from numpy import loadtxt\n",
    "import xgboost\n",
    "from sklearn.model_selection import KFold\n",
    "from sklearn.model_selection import cross_val_score\n",
    "import sklearn\n",
    "sklearn.set_config(transform_output=\"pandas\")\n",
    "import category_encoders as ce\n",
    "import graphviz\n",
    "from sklearn.metrics import confusion_matrix\n",
    "from sklearn.model_selection import GroupShuffleSplit\n",
    "from sklearn.metrics import classification_report\n",
    "from sklearn.model_selection import GridSearchCV\n",
    "from pactools.grid_search import GridSearchCVProgressBar"
   ]
  },
  {
   "cell_type": "code",
   "execution_count": 2,
   "metadata": {},
   "outputs": [
    {
     "data": {
      "text/html": [
       "<div>\n",
       "<style scoped>\n",
       "    .dataframe tbody tr th:only-of-type {\n",
       "        vertical-align: middle;\n",
       "    }\n",
       "\n",
       "    .dataframe tbody tr th {\n",
       "        vertical-align: top;\n",
       "    }\n",
       "\n",
       "    .dataframe thead th {\n",
       "        text-align: right;\n",
       "    }\n",
       "</style>\n",
       "<table border=\"1\" class=\"dataframe\">\n",
       "  <thead>\n",
       "    <tr style=\"text-align: right;\">\n",
       "      <th></th>\n",
       "      <th>ID</th>\n",
       "      <th>name</th>\n",
       "      <th>href</th>\n",
       "      <th>docket</th>\n",
       "      <th>term</th>\n",
       "      <th>first_party</th>\n",
       "      <th>second_party</th>\n",
       "      <th>facts</th>\n",
       "      <th>facts_len</th>\n",
       "      <th>majority_vote</th>\n",
       "      <th>...</th>\n",
       "      <th>sim1_legal_question_score</th>\n",
       "      <th>sim1_conclusion_score</th>\n",
       "      <th>sim2_facts_score</th>\n",
       "      <th>sim2_issue_area_score</th>\n",
       "      <th>sim1_facts_href</th>\n",
       "      <th>sim2_facts_href</th>\n",
       "      <th>sim1_issue_area_href</th>\n",
       "      <th>sim2_issue_area_href</th>\n",
       "      <th>sim1_legal_question_href</th>\n",
       "      <th>sim1_conclusion_href</th>\n",
       "    </tr>\n",
       "  </thead>\n",
       "  <tbody>\n",
       "    <tr>\n",
       "      <th>0</th>\n",
       "      <td>53057</td>\n",
       "      <td>City of Oklahoma City v. Tuttle</td>\n",
       "      <td>https://api.oyez.org/cases/1984/83-1919</td>\n",
       "      <td>83-1919</td>\n",
       "      <td>1984</td>\n",
       "      <td>City of Oklahoma City</td>\n",
       "      <td>Rose Marie Tuttle, Individually and as Adminis...</td>\n",
       "      <td>&lt;p&gt;On October 10, 1980, an Oklahoma City polic...</td>\n",
       "      <td>952</td>\n",
       "      <td>7</td>\n",
       "      <td>...</td>\n",
       "      <td>0.882680</td>\n",
       "      <td>0.910945</td>\n",
       "      <td>0.880510</td>\n",
       "      <td>1.0</td>\n",
       "      <td>https://api.oyez.org/cases/1997/96-957</td>\n",
       "      <td>https://api.oyez.org/cases/2013/13-551</td>\n",
       "      <td>https://api.oyez.org/cases/1960/32</td>\n",
       "      <td>https://api.oyez.org/cases/1972/71-1336</td>\n",
       "      <td>https://api.oyez.org/cases/2016/16-369</td>\n",
       "      <td>https://api.oyez.org/cases/1997/96-827</td>\n",
       "    </tr>\n",
       "    <tr>\n",
       "      <th>1</th>\n",
       "      <td>55708</td>\n",
       "      <td>City of Ontario v. Quon</td>\n",
       "      <td>https://api.oyez.org/cases/2009/08-1332</td>\n",
       "      <td>08-1332</td>\n",
       "      <td>2009</td>\n",
       "      <td>City of Ontario, California et al.</td>\n",
       "      <td>Jeff Quon, et al.</td>\n",
       "      <td>&lt;p&gt;Employees of the City of Ontario, Californi...</td>\n",
       "      <td>1494</td>\n",
       "      <td>9</td>\n",
       "      <td>...</td>\n",
       "      <td>0.889324</td>\n",
       "      <td>0.910785</td>\n",
       "      <td>0.877608</td>\n",
       "      <td>1.0</td>\n",
       "      <td>https://api.oyez.org/cases/2004/03-710</td>\n",
       "      <td>https://api.oyez.org/cases/1988/87-6571</td>\n",
       "      <td>https://api.oyez.org/cases/2011/10-637</td>\n",
       "      <td>https://api.oyez.org/cases/1999/98-1036</td>\n",
       "      <td>https://api.oyez.org/cases/1988/87-764</td>\n",
       "      <td>https://api.oyez.org/cases/2011/10-1259</td>\n",
       "    </tr>\n",
       "    <tr>\n",
       "      <th>2</th>\n",
       "      <td>51555</td>\n",
       "      <td>City of Philadelphia v. New Jersey</td>\n",
       "      <td>https://api.oyez.org/cases/1976/75-1150</td>\n",
       "      <td>75-1150</td>\n",
       "      <td>1976</td>\n",
       "      <td>City of Philadelphia et al.</td>\n",
       "      <td>New Jersey et al.</td>\n",
       "      <td>&lt;p&gt;A New Jersey statute prohibited the importa...</td>\n",
       "      <td>430</td>\n",
       "      <td>5</td>\n",
       "      <td>...</td>\n",
       "      <td>0.913905</td>\n",
       "      <td>0.892045</td>\n",
       "      <td>0.865124</td>\n",
       "      <td>1.0</td>\n",
       "      <td>https://api.oyez.org/cases/1977/77-404</td>\n",
       "      <td>https://api.oyez.org/cases/1940-1955/330us1</td>\n",
       "      <td>https://api.oyez.org/cases/2007/06-666</td>\n",
       "      <td>https://api.oyez.org/cases/1976/75-978</td>\n",
       "      <td>https://api.oyez.org/cases/1977/77-404</td>\n",
       "      <td>https://api.oyez.org/cases/1978/77-154</td>\n",
       "    </tr>\n",
       "    <tr>\n",
       "      <th>3</th>\n",
       "      <td>51844</td>\n",
       "      <td>City of Philadelphia v. New Jersey</td>\n",
       "      <td>https://api.oyez.org/cases/1977/77-404</td>\n",
       "      <td>77-404</td>\n",
       "      <td>1977</td>\n",
       "      <td>City of Philadelphia</td>\n",
       "      <td>New Jersey</td>\n",
       "      <td>&lt;p&gt;A New Jersey law prohibited the importation...</td>\n",
       "      <td>162</td>\n",
       "      <td>7</td>\n",
       "      <td>...</td>\n",
       "      <td>0.917768</td>\n",
       "      <td>0.910676</td>\n",
       "      <td>0.863157</td>\n",
       "      <td>1.0</td>\n",
       "      <td>https://api.oyez.org/cases/1976/75-1150</td>\n",
       "      <td>https://api.oyez.org/cases/1993/93-70</td>\n",
       "      <td>https://api.oyez.org/cases/2007/06-666</td>\n",
       "      <td>https://api.oyez.org/cases/1976/75-978</td>\n",
       "      <td>https://api.oyez.org/cases/1993/93-70</td>\n",
       "      <td>https://api.oyez.org/cases/1993/93-70</td>\n",
       "    </tr>\n",
       "    <tr>\n",
       "      <th>4</th>\n",
       "      <td>55235</td>\n",
       "      <td>City of Rancho Palos Verdes v. Abrams</td>\n",
       "      <td>https://api.oyez.org/cases/2004/03-1601</td>\n",
       "      <td>03-1601</td>\n",
       "      <td>2004</td>\n",
       "      <td>City of Rancho Palos Verdes, California, et al.</td>\n",
       "      <td>Mark J. Abrams</td>\n",
       "      <td>&lt;p&gt;Rancho Palos Verdes, a city in California, ...</td>\n",
       "      <td>1094</td>\n",
       "      <td>9</td>\n",
       "      <td>...</td>\n",
       "      <td>0.843087</td>\n",
       "      <td>0.828414</td>\n",
       "      <td>0.884123</td>\n",
       "      <td>1.0</td>\n",
       "      <td>https://api.oyez.org/cases/2003/02-1238</td>\n",
       "      <td>https://api.oyez.org/cases/2014/13-975</td>\n",
       "      <td>https://api.oyez.org/cases/1960/32</td>\n",
       "      <td>https://api.oyez.org/cases/1972/71-1336</td>\n",
       "      <td>https://api.oyez.org/cases/1999/98-791</td>\n",
       "      <td>https://api.oyez.org/cases/1940-1955/341us494</td>\n",
       "    </tr>\n",
       "  </tbody>\n",
       "</table>\n",
       "<p>5 rows × 34 columns</p>\n",
       "</div>"
      ],
      "text/plain": [
       "      ID                                   name  \\\n",
       "0  53057        City of Oklahoma City v. Tuttle   \n",
       "1  55708                City of Ontario v. Quon   \n",
       "2  51555     City of Philadelphia v. New Jersey   \n",
       "3  51844     City of Philadelphia v. New Jersey   \n",
       "4  55235  City of Rancho Palos Verdes v. Abrams   \n",
       "\n",
       "                                      href   docket  term  \\\n",
       "0  https://api.oyez.org/cases/1984/83-1919  83-1919  1984   \n",
       "1  https://api.oyez.org/cases/2009/08-1332  08-1332  2009   \n",
       "2  https://api.oyez.org/cases/1976/75-1150  75-1150  1976   \n",
       "3   https://api.oyez.org/cases/1977/77-404   77-404  1977   \n",
       "4  https://api.oyez.org/cases/2004/03-1601  03-1601  2004   \n",
       "\n",
       "                                       first_party  \\\n",
       "0                            City of Oklahoma City   \n",
       "1               City of Ontario, California et al.   \n",
       "2                      City of Philadelphia et al.   \n",
       "3                             City of Philadelphia   \n",
       "4  City of Rancho Palos Verdes, California, et al.   \n",
       "\n",
       "                                        second_party  \\\n",
       "0  Rose Marie Tuttle, Individually and as Adminis...   \n",
       "1                                  Jeff Quon, et al.   \n",
       "2                                  New Jersey et al.   \n",
       "3                                         New Jersey   \n",
       "4                                     Mark J. Abrams   \n",
       "\n",
       "                                               facts facts_len majority_vote  \\\n",
       "0  <p>On October 10, 1980, an Oklahoma City polic...       952             7   \n",
       "1  <p>Employees of the City of Ontario, Californi...      1494             9   \n",
       "2  <p>A New Jersey statute prohibited the importa...       430             5   \n",
       "3  <p>A New Jersey law prohibited the importation...       162             7   \n",
       "4  <p>Rancho Palos Verdes, a city in California, ...      1094             9   \n",
       "\n",
       "   ...  sim1_legal_question_score sim1_conclusion_score sim2_facts_score  \\\n",
       "0  ...                   0.882680              0.910945         0.880510   \n",
       "1  ...                   0.889324              0.910785         0.877608   \n",
       "2  ...                   0.913905              0.892045         0.865124   \n",
       "3  ...                   0.917768              0.910676         0.863157   \n",
       "4  ...                   0.843087              0.828414         0.884123   \n",
       "\n",
       "  sim2_issue_area_score                          sim1_facts_href  \\\n",
       "0                   1.0   https://api.oyez.org/cases/1997/96-957   \n",
       "1                   1.0   https://api.oyez.org/cases/2004/03-710   \n",
       "2                   1.0   https://api.oyez.org/cases/1977/77-404   \n",
       "3                   1.0  https://api.oyez.org/cases/1976/75-1150   \n",
       "4                   1.0  https://api.oyez.org/cases/2003/02-1238   \n",
       "\n",
       "                               sim2_facts_href  \\\n",
       "0       https://api.oyez.org/cases/2013/13-551   \n",
       "1      https://api.oyez.org/cases/1988/87-6571   \n",
       "2  https://api.oyez.org/cases/1940-1955/330us1   \n",
       "3        https://api.oyez.org/cases/1993/93-70   \n",
       "4       https://api.oyez.org/cases/2014/13-975   \n",
       "\n",
       "                     sim1_issue_area_href  \\\n",
       "0      https://api.oyez.org/cases/1960/32   \n",
       "1  https://api.oyez.org/cases/2011/10-637   \n",
       "2  https://api.oyez.org/cases/2007/06-666   \n",
       "3  https://api.oyez.org/cases/2007/06-666   \n",
       "4      https://api.oyez.org/cases/1960/32   \n",
       "\n",
       "                      sim2_issue_area_href  \\\n",
       "0  https://api.oyez.org/cases/1972/71-1336   \n",
       "1  https://api.oyez.org/cases/1999/98-1036   \n",
       "2   https://api.oyez.org/cases/1976/75-978   \n",
       "3   https://api.oyez.org/cases/1976/75-978   \n",
       "4  https://api.oyez.org/cases/1972/71-1336   \n",
       "\n",
       "                 sim1_legal_question_href  \\\n",
       "0  https://api.oyez.org/cases/2016/16-369   \n",
       "1  https://api.oyez.org/cases/1988/87-764   \n",
       "2  https://api.oyez.org/cases/1977/77-404   \n",
       "3   https://api.oyez.org/cases/1993/93-70   \n",
       "4  https://api.oyez.org/cases/1999/98-791   \n",
       "\n",
       "                            sim1_conclusion_href  \n",
       "0         https://api.oyez.org/cases/1997/96-827  \n",
       "1        https://api.oyez.org/cases/2011/10-1259  \n",
       "2         https://api.oyez.org/cases/1978/77-154  \n",
       "3          https://api.oyez.org/cases/1993/93-70  \n",
       "4  https://api.oyez.org/cases/1940-1955/341us494  \n",
       "\n",
       "[5 rows x 34 columns]"
      ]
     },
     "execution_count": 2,
     "metadata": {},
     "output_type": "execute_result"
    }
   ],
   "source": [
    "df = pd.read_csv('./data/final_script.csv')\n",
    "df = df.loc[:,~df.columns.str.startswith('Unnamed')]\n",
    "df.head(5)"
   ]
  },
  {
   "cell_type": "code",
   "execution_count": 3,
   "metadata": {},
   "outputs": [],
   "source": [
    "df['fpw'] = df['first_party_winner'].map({'True': 1,'False' :0 })\n",
    "min_df = df[['href', 'fpw', 'issue_area']]\n",
    "sim1_facts_df = pd.merge(df, min_df, how=\"left\", suffixes=(None, '_sim1_facts'), left_on='sim1_facts_href', right_on='href')\n",
    "sim2_facts_df = pd.merge(sim1_facts_df, min_df, how=\"left\", suffixes=(None, '_sim2_facts'), left_on='sim2_facts_href', right_on='href')\n",
    "\n",
    "sim1_issue_area_df = pd.merge(sim2_facts_df, min_df, how=\"left\", suffixes=(None, '_sim1_issue_area'), left_on='sim1_issue_area_href', right_on='href')\n",
    "sim2_issue_area_df = pd.merge(sim1_issue_area_df, min_df, how=\"left\", suffixes=(None, '_sim2_issue_area'), left_on='sim2_issue_area_href', right_on='href')\n",
    "\n",
    "sim1_legal_question_df = pd.merge(sim2_issue_area_df, min_df, how=\"left\", suffixes=(None, '_sim1_legal_question'), left_on='sim1_legal_question_href', right_on='href')\n",
    "\n",
    "sim1_conclusion_df = pd.merge(sim1_legal_question_df, min_df, how=\"left\", suffixes=(None, '_sim1_conclusion'), left_on='sim1_conclusion_href', right_on='href')\n",
    "\n",
    "merged_df = sim1_conclusion_df\n",
    "merged_df['fpw'] = merged_df[merged_df['fpw'].notna()]['fpw'].astype(int)\n",
    "merged_df = merged_df[merged_df['fpw'].notna()]"
   ]
  },
  {
   "cell_type": "code",
   "execution_count": 4,
   "metadata": {},
   "outputs": [
    {
     "data": {
      "text/plain": [
       "Index(['term', 'first_party', 'second_party', 'issue_area',\n",
       "       'first_party_entity', 'second_party_entity', 'judges', 'lower_court',\n",
       "       'sim1_facts_score', 'sim1_issue_area_score',\n",
       "       'sim1_legal_question_score', 'sim1_conclusion_score',\n",
       "       'sim2_facts_score', 'sim2_issue_area_score', 'fpw', 'fpw_sim1_facts',\n",
       "       'issue_area_sim1_facts', 'fpw_sim2_facts', 'issue_area_sim2_facts',\n",
       "       'fpw_sim1_issue_area', 'issue_area_sim1_issue_area',\n",
       "       'fpw_sim2_issue_area', 'issue_area_sim2_issue_area',\n",
       "       'fpw_sim1_legal_question', 'issue_area_sim1_legal_question',\n",
       "       'fpw_sim1_conclusion', 'issue_area_sim1_conclusion'],\n",
       "      dtype='object')"
      ]
     },
     "execution_count": 4,
     "metadata": {},
     "output_type": "execute_result"
    }
   ],
   "source": [
    "merged_df = merged_df[merged_df.columns.drop(list(merged_df.filter(regex='Unnamed')))]\n",
    "merged_df = merged_df[merged_df.columns.drop(list(merged_df.filter(regex='href')))]\n",
    "merged_df = merged_df[merged_df['term'].str.isnumeric()]\n",
    "merged_df = merged_df.drop('ID', axis=1)\n",
    "merged_df = merged_df.drop('name', axis=1)\n",
    "merged_df = merged_df.drop('docket', axis=1)\n",
    "merged_df = merged_df.drop('facts', axis=1)\n",
    "merged_df = merged_df.drop('facts_len', axis=1)\n",
    "merged_df = merged_df.drop('majority_vote', axis=1)\n",
    "merged_df = merged_df.drop('minority_vote', axis=1)\n",
    "merged_df = merged_df.drop('disposition', axis=1)\n",
    "merged_df = merged_df.drop('decision_type', axis=1)\n",
    "merged_df = merged_df.drop('first_party_winner', axis=1)\n",
    "merged_df = merged_df.drop('legal_question', axis=1)\n",
    "merged_df = merged_df.drop('facts_clean', axis=1)\n",
    "merged_df = merged_df.drop('conclusion', axis=1)\n",
    "merged_df['term'] = merged_df['term'].astype('float')\n",
    "\n",
    "merged_df.columns\n"
   ]
  },
  {
   "cell_type": "code",
   "execution_count": 5,
   "metadata": {},
   "outputs": [],
   "source": [
    "cat_vars = ['first_party',\n",
    "            'second_party',\n",
    "            'issue_area',\n",
    "            'first_party_entity',\n",
    "            'second_party_entity',\n",
    "            'judges',\n",
    "            'lower_court',\n",
    "            'issue_area_sim1_facts',\n",
    "            'issue_area_sim2_facts',\n",
    "            'issue_area_sim1_conclusion',\n",
    "            'issue_area_sim1_legal_question',\n",
    "            'issue_area_sim1_issue_area',\n",
    "            'issue_area_sim2_issue_area']\n",
    "for col in cat_vars:\n",
    "    merged_df[col] = merged_df[col].astype('category')"
   ]
  },
  {
   "cell_type": "code",
   "execution_count": 6,
   "metadata": {},
   "outputs": [],
   "source": [
    "merged_df.to_csv('for_training.csv')"
   ]
  },
  {
   "cell_type": "code",
   "execution_count": 7,
   "metadata": {},
   "outputs": [],
   "source": [
    "y = merged_df['fpw']\n",
    "X = merged_df.drop('fpw', axis=1)\n",
    "X_train, X_test, y_train, y_test = train_test_split(X, y, test_size=.2, stratify=y)"
   ]
  },
  {
   "cell_type": "code",
   "execution_count": 21,
   "metadata": {},
   "outputs": [
    {
     "data": {
      "text/plain": [
       "fpw\n",
       "1.0    1392\n",
       "0.0     717\n",
       "Name: count, dtype: int64"
      ]
     },
     "execution_count": 21,
     "metadata": {},
     "output_type": "execute_result"
    }
   ],
   "source": [
    "y_train.value_counts()"
   ]
  },
  {
   "cell_type": "code",
   "execution_count": 22,
   "metadata": {},
   "outputs": [
    {
     "data": {
      "text/plain": [
       "fpw\n",
       "1.0    348\n",
       "0.0    180\n",
       "Name: count, dtype: int64"
      ]
     },
     "execution_count": 22,
     "metadata": {},
     "output_type": "execute_result"
    }
   ],
   "source": [
    "y_test.value_counts()"
   ]
  },
  {
   "cell_type": "code",
   "execution_count": 25,
   "metadata": {},
   "outputs": [
    {
     "name": "stdout",
     "output_type": "stream",
     "text": [
      "Fitting 10 folds for each of 180 candidates, totalling 1800 fits\n"
     ]
    }
   ],
   "source": [
    "estimator = XGBClassifier(\n",
    "    objective= 'binary:logistic',\n",
    "    nthread=4,\n",
    "    seed=42,\n",
    "    enable_categorical=True\n",
    ")\n",
    "parameters = {\n",
    "    'max_depth': range (2, 20, 5),\n",
    "    'n_estimators': range(10, 85, 5),\n",
    "    'learning_rate': [0.1, 0.01, 0.05],\n",
    "    'booster': ['gbtree'],\n",
    "    'objective': ['binary:logistic']\n",
    "}\n",
    "grid_search = GridSearchCV(\n",
    "    estimator=estimator,\n",
    "    param_grid=parameters,\n",
    "    scoring = 'roc_auc',\n",
    "    n_jobs = 10,\n",
    "    #stratified\n",
    "    cv = 10,\n",
    "    verbose=10,\n",
    "    max_cat_to_onehot=5\n",
    ")\n",
    "grid_search.fit(X, y)\n",
    "print(grid_search.best_estimator_)"
   ]
  },
  {
   "cell_type": "code",
   "execution_count": null,
   "metadata": {},
   "outputs": [
    {
     "data": {
      "text/plain": [
       "0.6156470960052883"
      ]
     },
     "execution_count": 24,
     "metadata": {},
     "output_type": "execute_result"
    }
   ],
   "source": [
    "grid_search.best_score_"
   ]
  },
  {
   "cell_type": "code",
   "execution_count": null,
   "metadata": {},
   "outputs": [
    {
     "name": "stdout",
     "output_type": "stream",
     "text": [
      "              precision    recall  f1-score   support\n",
      "\n",
      "         0.0       0.37      0.12      0.18       180\n",
      "         1.0       0.66      0.89      0.76       348\n",
      "\n",
      "    accuracy                           0.63       528\n",
      "   macro avg       0.51      0.51      0.47       528\n",
      "weighted avg       0.56      0.63      0.56       528\n",
      "\n",
      "[[ 53 127]\n",
      " [ 86 262]]\n",
      "roc auc: 0.5065134099616858\n"
     ]
    }
   ],
   "source": [
    "grid_predictions = grid_search.predict(X_test)\n",
    "print(classification_report(y_test, grid_predictions))\n",
    "print(confusion_matrix(y_test, preds))\n",
    "# AUC as it is a function of sensitivity and specificity, the curve is insensitive to disparities in the class proportions\n",
    "# https://stats.stackexchange.com/questions/235808/binary-classification-with-strongly-unbalanced-classes\n",
    "print(f\"roc auc: {sklearn.metrics.roc_auc_score( y_test, grid_predictions)}\")"
   ]
  },
  {
   "cell_type": "code",
   "execution_count": 9,
   "metadata": {},
   "outputs": [
    {
     "name": "stdout",
     "output_type": "stream",
     "text": [
      "389\n",
      "528\n",
      "[[ 53 127]\n",
      " [ 86 262]]\n",
      "              precision    recall  f1-score   support\n",
      "\n",
      "         0.0       0.38      0.29      0.33       180\n",
      "         1.0       0.67      0.75      0.71       348\n",
      "\n",
      "    accuracy                           0.60       528\n",
      "   macro avg       0.53      0.52      0.52       528\n",
      "weighted avg       0.57      0.60      0.58       528\n",
      "\n",
      "roc auc: 0.5236590038314176\n"
     ]
    }
   ],
   "source": [
    "# data = xgb.DMatrix(X, label=y, enable_categorical=True)\n",
    "# params = {'max_depth': 5, 'eta':3, 'objective':'binary:logistic', 'n_estimators': range(10, 100, 5), 'learning_rate': [0.1, 0.01, 0.05]}\n",
    "# num_round = 5\n",
    "\n",
    "# model = XGBClassifier(max_depth=7, learning_rate=1, objective='binary:logistic', enable_categorical=True, booster='gbtree')\n",
    "# model.fit(X_train, y_train)\n",
    "# preds = model.predict(X_test)\n",
    "# print(preds.sum())\n",
    "# print(len(preds))\n",
    "# print(confusion_matrix(y_test, preds))\n",
    "# print(classification_report(y_test, preds))\n",
    "# print(f\"roc auc: {sklearn.metrics.roc_auc_score( y_test, preds)}\")"
   ]
  },
  {
   "cell_type": "code",
   "execution_count": null,
   "metadata": {},
   "outputs": [],
   "source": [
    "estimator = XGBClassifier(\n",
    "    objective= 'binary:logistic',\n",
    "    nthread=4,\n",
    "    seed=42,\n",
    "    enable_categorical=True\n",
    ")\n",
    "parameters = {\n",
    "    'max_depth': range (2, 20, 5),\n",
    "    'n_estimators': range(10, 85, 5),\n",
    "    'learning_rate': [0.1, 0.01, 0.05],\n",
    "    'booster': ['gbtree'],\n",
    "    'objective': ['binary:logistic']\n",
    "}\n",
    "grid_search = GridSearchCV(\n",
    "    estimator=estimator,\n",
    "    param_grid=parameters,\n",
    "    scoring = 'aucpr',\n",
    "    n_jobs = 10,\n",
    "    #stratified\n",
    "    cv = 10,\n",
    "    verbose=10\n",
    ")\n",
    "grid_search.fit(X, y)\n",
    "print(grid_search.best_estimator_)"
   ]
  },
  {
   "cell_type": "markdown",
   "metadata": {},
   "source": []
  }
 ],
 "metadata": {
  "kernelspec": {
   "display_name": "fv",
   "language": "python",
   "name": "python3"
  },
  "language_info": {
   "codemirror_mode": {
    "name": "ipython",
    "version": 3
   },
   "file_extension": ".py",
   "mimetype": "text/x-python",
   "name": "python",
   "nbconvert_exporter": "python",
   "pygments_lexer": "ipython3",
   "version": "3.10.13"
  }
 },
 "nbformat": 4,
 "nbformat_minor": 2
}
