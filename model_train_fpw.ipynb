{
 "cells": [
  {
   "cell_type": "code",
   "execution_count": null,
   "metadata": {},
   "outputs": [],
   "source": [
    "import xgboost as xgb\n",
    "from xgboost import XGBClassifier\n",
    "import sklearn\n",
    "from sklearn.model_selection import train_test_split\n",
    "import pandas as pd\n",
    "from numpy import loadtxt\n",
    "import xgboost\n",
    "from sklearn.model_selection import KFold\n",
    "from sklearn.model_selection import cross_val_score\n",
    "import sklearn\n",
    "sklearn.set_config(transform_output=\"pandas\")\n",
    "import category_encoders as ce\n",
    "import graphviz\n",
    "from sklearn.metrics import confusion_matrix\n",
    "from sklearn.model_selection import GroupShuffleSplit\n",
    "from sklearn.metrics import classification_report\n",
    "from sklearn.model_selection import GridSearchCV\n",
    "from matplotlib import pyplot\n",
    "from sklearn.base import clone\n",
    "from sklearn.model_selection import StratifiedKFold, cross_validate"
   ]
  },
  {
   "cell_type": "code",
   "execution_count": null,
   "metadata": {},
   "outputs": [],
   "source": [
    "df = pd.read_csv('./data/final_script.csv')\n",
    "df = df.loc[:,~df.columns.str.startswith('Unnamed')]\n",
    "df.head(5)"
   ]
  },
  {
   "cell_type": "code",
   "execution_count": null,
   "metadata": {},
   "outputs": [],
   "source": [
    "df['fpw'] = df['first_party_winner'].map({'True': 1,'False' :0 })\n",
    "min_df = df[['href', 'fpw', 'issue_area']]\n",
    "sim1_facts_df = pd.merge(df, min_df, how=\"left\", suffixes=(None, '_sim1_facts'), left_on='sim1_facts_href', right_on='href')\n",
    "sim2_facts_df = pd.merge(sim1_facts_df, min_df, how=\"left\", suffixes=(None, '_sim2_facts'), left_on='sim2_facts_href', right_on='href')\n",
    "\n",
    "sim1_issue_area_df = pd.merge(sim2_facts_df, min_df, how=\"left\", suffixes=(None, '_sim1_issue_area'), left_on='sim1_issue_area_href', right_on='href')\n",
    "sim2_issue_area_df = pd.merge(sim1_issue_area_df, min_df, how=\"left\", suffixes=(None, '_sim2_issue_area'), left_on='sim2_issue_area_href', right_on='href')\n",
    "\n",
    "sim1_legal_question_df = pd.merge(sim2_issue_area_df, min_df, how=\"left\", suffixes=(None, '_sim1_legal_question'), left_on='sim1_legal_question_href', right_on='href')\n",
    "\n",
    "sim1_conclusion_df = pd.merge(sim1_legal_question_df, min_df, how=\"left\", suffixes=(None, '_sim1_conclusion'), left_on='sim1_conclusion_href', right_on='href')\n",
    "\n",
    "merged_df = sim1_conclusion_df\n",
    "merged_df['fpw'] = merged_df[merged_df['fpw'].notna()]['fpw'].astype(int)\n",
    "merged_df = merged_df[merged_df['fpw'].notna()]"
   ]
  },
  {
   "cell_type": "code",
   "execution_count": null,
   "metadata": {},
   "outputs": [],
   "source": [
    "merged_df = merged_df[merged_df.columns.drop(list(merged_df.filter(regex='Unnamed')))]\n",
    "merged_df = merged_df[merged_df.columns.drop(list(merged_df.filter(regex='href')))]\n",
    "merged_df = merged_df[merged_df['term'].str.isnumeric()]\n",
    "merged_df = merged_df.drop('ID', axis=1)\n",
    "merged_df = merged_df.drop('name', axis=1)\n",
    "merged_df = merged_df.drop('docket', axis=1)\n",
    "merged_df = merged_df.drop('facts', axis=1)\n",
    "merged_df = merged_df.drop('facts_len', axis=1)\n",
    "merged_df = merged_df.drop('majority_vote', axis=1)\n",
    "merged_df = merged_df.drop('minority_vote', axis=1)\n",
    "merged_df = merged_df.drop('disposition', axis=1)\n",
    "merged_df = merged_df.drop('decision_type', axis=1)\n",
    "merged_df = merged_df.drop('first_party_winner', axis=1)\n",
    "merged_df = merged_df.drop('legal_question', axis=1)\n",
    "merged_df = merged_df.drop('facts_clean', axis=1)\n",
    "merged_df = merged_df.drop('conclusion', axis=1)\n",
    "merged_df['term'] = merged_df['term'].astype('float')\n",
    "\n",
    "merged_df.columns\n"
   ]
  },
  {
   "cell_type": "code",
   "execution_count": null,
   "metadata": {},
   "outputs": [],
   "source": [
    "cat_vars = ['first_party',\n",
    "            'second_party',\n",
    "            'issue_area',\n",
    "            'first_party_entity',\n",
    "            'second_party_entity',\n",
    "            'judges',\n",
    "            'lower_court',\n",
    "            'issue_area_sim1_facts',\n",
    "            'issue_area_sim2_facts',\n",
    "            'issue_area_sim1_conclusion',\n",
    "            'issue_area_sim1_legal_question',\n",
    "            'issue_area_sim1_issue_area',\n",
    "            'issue_area_sim2_issue_area']\n",
    "for col in cat_vars:\n",
    "    merged_df[col] = merged_df[col].astype('category')"
   ]
  },
  {
   "cell_type": "code",
   "execution_count": null,
   "metadata": {},
   "outputs": [],
   "source": [
    "merged_df.to_csv('for_training.csv')"
   ]
  },
  {
   "cell_type": "code",
   "execution_count": null,
   "metadata": {},
   "outputs": [],
   "source": [
    "# y = merged_df['fpw']\n",
    "# X = merged_df.drop('fpw', axis=1)\n",
    "# X_train, X_test, y_train, y_test = train_test_split(X, y, test_size=.2, stratify=y)"
   ]
  },
  {
   "cell_type": "code",
   "execution_count": null,
   "metadata": {},
   "outputs": [],
   "source": [
    "merged_df.info()"
   ]
  },
  {
   "cell_type": "code",
   "execution_count": 25,
   "metadata": {},
   "outputs": [],
   "source": [
    "#https://xgboost.readthedocs.io/en/stable/python/sklearn_estimator.html#early-stopping\n",
    "y = merged_df['fpw']\n",
    "X = merged_df.drop('fpw', axis=1)\n",
    "# X_train, X_test, y_train, y_test = train_test_split(X, y, test_size=.2, stratify=y)\n",
    "cv = StratifiedKFold(n_splits=10, shuffle=True, random_state=94)\n",
    "\n",
    "estimator = XGBClassifier(\n",
    "    objective= 'binary:logistic',\n",
    "    nthread=4,\n",
    "    seed=42,\n",
    "    enable_categorical=True,\n",
    "    tree_method='hist',\n",
    "    early_stopping_rounds=10\n",
    ")\n",
    "parameters = {\n",
    "    'max_depth': range (2, 20, 5),\n",
    "    'n_estimators': range(10, 85, 5),\n",
    "    'learning_rate': [0.1, 0.01, 0.05],\n",
    "    'booster': ['gbtree'],\n",
    "    'objective': ['binary:logistic']\n",
    "}\n",
    "grid_search = GridSearchCV(\n",
    "    estimator=estimator,\n",
    "    param_grid=parameters,\n",
    "    scoring = 'roc_auc',\n",
    "    n_jobs = 10,\n",
    "    #stratified\n",
    "    cv = 10,\n",
    "    verbose=10\n",
    ")\n",
    "# grid_search.fit(X, y)\n",
    "\n",
    "def fit_and_score(estimator, X_train, X_test, y_train, y_test):\n",
    "    \"\"\"Fit the estimator on the train set and score it on both sets\"\"\"\n",
    "    estimator.fit(X_train, y_train, eval_set=[(X_test, y_test)])\n",
    "\n",
    "    train_score = estimator.score(X_train, y_train)\n",
    "    test_score = estimator.score(X_test, y_test)\n",
    "\n",
    "    return estimator, train_score, test_score\n",
    "\n",
    "results = {}\n",
    "\n",
    "#https://xgboost.readthedocs.io/en/stable/python/sklearn_estimator.html#early-stopping\n",
    "for train, test in cv.split(X, y):\n",
    "    print(train)\n",
    "    print(text)\n",
    "    X_train = X.iloc[train]\n",
    "    X_test = X.iloc[test]\n",
    "    y_train = y.iloc[train]\n",
    "    y_test = y.iloc[test]\n",
    "    est, train_score, test_score = fit_and_score(\n",
    "        clone(grid_search), X_train, X_test, y_train, y_test\n",
    "    )\n",
    "    results[est] = (train_score, test_score)\n",
    "    print(grid_search.best_estimator_)\n",
    "\n",
    "print(\"===========\")\n",
    "print(results)"
   ]
  },
  {
   "cell_type": "code",
   "execution_count": null,
   "metadata": {},
   "outputs": [],
   "source": [
    "print(grid_search.best_estimator_)"
   ]
  },
  {
   "cell_type": "code",
   "execution_count": null,
   "metadata": {},
   "outputs": [],
   "source": [
    "grid_predictions = grid_search.predict(X_test)\n",
    "print(classification_report(y_test, grid_predictions))\n",
    "print(confusion_matrix(y_test, grid_predictions))\n",
    "# AUC as it is a function of sensitivity and specificity, the curve is insensitive to disparities in the class proportions\n",
    "# https://stats.stackexchange.com/questions/235808/binary-classification-with-strongly-unbalanced-classes\n",
    "print(f\"roc auc: {sklearn.metrics.roc_auc_score( y_test, grid_predictions)}\")"
   ]
  },
  {
   "cell_type": "code",
   "execution_count": null,
   "metadata": {},
   "outputs": [],
   "source": [
    "print(grid_search.best_estimator_.feature_importances_)\n",
    "# plot\n",
    "pyplot.bar(range(len(grid_search.best_estimator_.feature_importances_)), grid_search.best_estimator_.feature_importances_)\n",
    "pyplot.show()"
   ]
  },
  {
   "cell_type": "code",
   "execution_count": null,
   "metadata": {},
   "outputs": [],
   "source": [
    "# data = xgb.DMatrix(X, label=y, enable_categorical=True)\n",
    "# params = {'max_depth': 5, 'eta':3, 'objective':'binary:logistic', 'n_estimators': range(10, 100, 5), 'learning_rate': [0.1, 0.01, 0.05]}\n",
    "# num_round = 5\n",
    "\n",
    "# model = XGBClassifier(max_depth=7, learning_rate=1, objective='binary:logistic', enable_categorical=True, booster='gbtree')\n",
    "# model.fit(X_train, y_train)\n",
    "# preds = model.predict(X_test)\n",
    "# print(preds.sum())\n",
    "# print(len(preds))\n",
    "# print(confusion_matrix(y_test, preds))\n",
    "# print(classification_report(y_test, preds))\n",
    "# print(f\"roc auc: {sklearn.metrics.roc_auc_score( y_test, preds)}\")"
   ]
  },
  {
   "cell_type": "code",
   "execution_count": null,
   "metadata": {},
   "outputs": [],
   "source": [
    "estimator = XGBClassifier(\n",
    "    objective= 'binary:logistic',\n",
    "    nthread=4,\n",
    "    seed=42,\n",
    "    enable_categorical=True\n",
    ")\n",
    "parameters = {\n",
    "    'max_depth': range (2, 20, 5),\n",
    "    'n_estimators': range(10, 85, 5),\n",
    "    'learning_rate': [0.1, 0.01, 0.05],\n",
    "    'booster': ['gbtree'],\n",
    "    'objective': ['binary:logistic']\n",
    "}\n",
    "grid_search = GridSearchCV(\n",
    "    estimator=estimator,\n",
    "    param_grid=parameters,\n",
    "    scoring = 'aucpr',\n",
    "    n_jobs = 10,\n",
    "    #stratified\n",
    "    cv = 10,\n",
    "    verbose=10\n",
    ")\n",
    "grid_search.fit(X, y)\n",
    "print(grid_search.best_estimator_)"
   ]
  },
  {
   "cell_type": "markdown",
   "metadata": {},
   "source": []
  }
 ],
 "metadata": {
  "kernelspec": {
   "display_name": "fv",
   "language": "python",
   "name": "python3"
  },
  "language_info": {
   "codemirror_mode": {
    "name": "ipython",
    "version": 3
   },
   "file_extension": ".py",
   "mimetype": "text/x-python",
   "name": "python",
   "nbconvert_exporter": "python",
   "pygments_lexer": "ipython3",
   "version": "3.10.13"
  }
 },
 "nbformat": 4,
 "nbformat_minor": 2
}
