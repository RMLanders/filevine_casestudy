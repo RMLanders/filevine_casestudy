{
 "cells": [
  {
   "cell_type": "code",
   "execution_count": null,
   "metadata": {},
   "outputs": [],
   "source": [
    "import pandas as pd\n",
    "import csv\n",
    "import re\n",
    "from bs4 import BeautifulSoup\n",
    "import marqo\n",
    "import pprint"
   ]
  },
  {
   "cell_type": "code",
   "execution_count": null,
   "metadata": {},
   "outputs": [],
   "source": [
    "df = pd.read_csv('./data/filevine_case_study_justice - train set_source data set.csv')\n",
    "\n",
    "def find_tags(txt):\n",
    "    soup = BeautifulSoup(txt, 'html.parser')\n",
    "    tags =[tag.name for tag in soup.find_all()]\n",
    "    return tags\n",
    "\n",
    "def clean_text(txt):\n",
    "    soup = BeautifulSoup(txt.strip(), 'html.parser')\n",
    "    clean_text = soup.get_text()\n",
    "    clean_text = re.sub('[^a-zA-Z0-9\\s]', '', clean_text)\n",
    "    clean_text = clean_text.lower()\n",
    "    return clean_text\n",
    "\n",
    "df['facts'].apply(find_tags).to_csv('tags.csv')\n",
    "\n",
    "# print(df)\n",
    "\n",
    "df['facts_clean'] = df['facts'].apply(clean_text)\n",
    "\n",
    "# print(df['facts_clean'])\n",
    "\n",
    "# df_dictionary = df[['href', 'facts_clean']].to_dict(orient='records')\n",
    "\n",
    "# print(df_dictionary)\n",
    "\n",
    "df[['href', 'facts_clean']]"
   ]
  },
  {
   "cell_type": "code",
   "execution_count": null,
   "metadata": {},
   "outputs": [],
   "source": [
    "df[df['facts_clean'].str.contains(\"currently unavailable\")]"
   ]
  },
  {
   "cell_type": "code",
   "execution_count": null,
   "metadata": {},
   "outputs": [],
   "source": [
    "df[df['facts_clean'].str.contains(\"currently unknown\")]"
   ]
  },
  {
   "cell_type": "code",
   "execution_count": null,
   "metadata": {},
   "outputs": [],
   "source": [
    "clean_df = df[['href', 'facts_clean']].to_dict('records')\n"
   ]
  },
  {
   "cell_type": "code",
   "execution_count": null,
   "metadata": {},
   "outputs": [],
   "source": [
    "type(df[['href', 'facts_clean']].rename(columns={\"href\": \"_id\"}).('records'))"
   ]
  },
  {
   "cell_type": "code",
   "execution_count": null,
   "metadata": {},
   "outputs": [],
   "source": [
    "print(clean_df)"
   ]
  },
  {
   "cell_type": "code",
   "execution_count": null,
   "metadata": {},
   "outputs": [],
   "source": [
    "type(df_dictionary)"
   ]
  },
  {
   "cell_type": "code",
   "execution_count": null,
   "metadata": {},
   "outputs": [],
   "source": [
    "# mq = marqo.Client(url=\"http://localhost:8882\")\n",
    "\n",
    "# mq.create_index(\"my-first-index\", model=\"hf/e5-base-v2\")\n",
    "\n",
    "# mq.index(\"my-first-index\").add_documents(\n",
    "#     [\n",
    "#         {\n",
    "#             \"Title\": \"The Travels of Marco Polo\",\n",
    "#             \"Description\": \"A 13th-century travelogue describing Polo's travels\",\n",
    "#         },\n",
    "#         {\n",
    "#             \"Title\": \"Extravehicular Mobility Unit (EMU)\",\n",
    "#             \"Description\": \"The EMU is a spacesuit that provides environmental protection, \"\n",
    "#             \"mobility, life support, and communications for astronauts\",\n",
    "#             \"_id\": \"article_591\",\n",
    "#         },\n",
    "#     ],\n",
    "#     tensor_fields=[\"Description\"],\n",
    "# )\n",
    "\n",
    "# results = mq.index(\"my-first-index\").search(\n",
    "#     q=\"What is the best outfit to wear on the moon?\"\n",
    "# )\n",
    "\n",
    "# print="
   ]
  },
  {
   "cell_type": "code",
   "execution_count": null,
   "metadata": {},
   "outputs": [],
   "source": [
    "mq = marqo.Client(url=\"http://localhost:8882\")\n",
    "\n",
    "mq.create_index(\"test\", model=\"hf/multilingual-e5-large\")\n",
    "\n",
    "mq.index(\"test\").add_documents(\n",
    "    clean_df,\n",
    "    tensor_fields=[\"facts_clean\"],\n",
    "    client_batch_size=50,\n",
    "    auto_refresh=False\n",
    ")"
   ]
  },
  {
   "cell_type": "code",
   "execution_count": null,
   "metadata": {},
   "outputs": [],
   "source": [
    "# results = mq.index(\"test\").search(\n",
    "#     q=\"he city of Renton, Washington, enacted a zoning ordinance that prohibited adult motion picture\",\n",
    "#     filter_string=['facts_clean']\n",
    "# )\n",
    "query = \"due process\"\n",
    "results = mq.index(\"test\").search(query, search_method='TENSOR')\n",
    "print(results)\n",
    "\n",
    "\n",
    "# Prints the nicely formatted dictionary\n",
    "pprint.pprint(results)"
   ]
  },
  {
   "cell_type": "code",
   "execution_count": null,
   "metadata": {},
   "outputs": [],
   "source": []
  },
  {
   "cell_type": "code",
   "execution_count": null,
   "metadata": {},
   "outputs": [],
   "source": [
    "mq.index(\"test\").get_stats()"
   ]
  },
  {
   "cell_type": "code",
   "execution_count": null,
   "metadata": {},
   "outputs": [],
   "source": [
    "mq.index(\"my-first-index\").get_documents(\n",
    "    expose_facets=True,\n",
    "    document_ids=[]\n",
    ")"
   ]
  },
  {
   "cell_type": "code",
   "execution_count": null,
   "metadata": {},
   "outputs": [],
   "source": [
    "mq.index(\"sentences_test\").delete()"
   ]
  },
  {
   "cell_type": "code",
   "execution_count": null,
   "metadata": {},
   "outputs": [],
   "source": [
    "mq = marqo.Client(url=\"http://localhost:8882\")\n",
    "\n",
    "settings = {\n",
    "    \"textPreprocessing\": {\n",
    "        \"splitLength\": 2,\n",
    "        \"splitOverlap\": 0,\n",
    "        \"splitMethod\": \"sentence\",\n",
    "    },\n",
    "}\n",
    "\n",
    "mq.create_index(\"sentences_test\", \n",
    "                model=\"hf/multilingual-e5-large\",\n",
    "                settings_dict=settings\n",
    ")\n",
    "\n",
    "mq.index(\"sentences_test\").add_documents(\n",
    "    clean_df,\n",
    "    tensor_fields=[\"facts_clean\"],\n",
    "    client_batch_size=50\n",
    ")"
   ]
  },
  {
   "cell_type": "code",
   "execution_count": null,
   "metadata": {},
   "outputs": [],
   "source": [
    "mq.index('sentences_test').get_stats()"
   ]
  },
  {
   "cell_type": "code",
   "execution_count": null,
   "metadata": {},
   "outputs": [],
   "source": [
    "# results = mq.index(\"test\").search(\n",
    "#     q=\"he city of Renton, Washington, enacted a zoning ordinance that prohibited adult motion picture\",\n",
    "#     filter_string=['facts_clean']\n",
    "# )\n",
    "query = \"A New Jersey law prohibited the importation of most solid or liquid waste which originated or was collected outside the territorial limits of the State.\"\n",
    "results = mq.index(\"sentences_test\").search(query, search_method='TENSOR')\n",
    "\n",
    "# Prints the nicely formatted dictionary\n",
    "pprint.pprint(results)"
   ]
  },
  {
   "cell_type": "code",
   "execution_count": null,
   "metadata": {},
   "outputs": [],
   "source": [
    "pd.DataFrame(results['hits']).loc[1]._highlights\n"
   ]
  }
 ],
 "metadata": {
  "kernelspec": {
   "display_name": "fv",
   "language": "python",
   "name": "python3"
  },
  "language_info": {
   "codemirror_mode": {
    "name": "ipython",
    "version": 3
   },
   "file_extension": ".py",
   "mimetype": "text/x-python",
   "name": "python",
   "nbconvert_exporter": "python",
   "pygments_lexer": "ipython3",
   "version": "3.10.13"
  }
 },
 "nbformat": 4,
 "nbformat_minor": 2
}
